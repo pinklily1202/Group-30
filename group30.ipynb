{
 "cells": [
  {
   "cell_type": "markdown",
   "id": "c0a91549-2016-410e-a32e-e364e981c2e6",
   "metadata": {},
   "source": [
    "# Analyzing Data to Investigate Risk Factors in Heart Failure Patients to Predict Mortality "
   ]
  },
  {
   "cell_type": "markdown",
   "id": "dbde98d0-bd99-459b-acd2-67b8a9113641",
   "metadata": {},
   "source": [
    "### Introduction"
   ]
  },
  {
   "cell_type": "markdown",
   "id": "26969ba2-1203-4f01-b7de-9368b8a5f337",
   "metadata": {},
   "source": [
    "A prevalent complex clinical combination of symptoms and signs known as heart failure is brought on by a decrease in the heart's function as a pump supporting the circulatory system (National Guideline Centre, 2018). The death risk in the first year after treatment is about 35% while the risk of death is less than 10% in the second year for those that are still alive (National Clinical Guideline Centre, 2010). Data analysis on heart failure is significant because it can provide valuable insights into the causes and  risk factors of heart failure. We will look into different patients’ health reports and their experience of heart failure to help us determine the factors that are most influential in predicting possible death of patients with heart failure. \n"
   ]
  },
  {
   "cell_type": "markdown",
   "id": "4b6cff82-1417-468c-a760-855ab0b4e87b",
   "metadata": {},
   "source": [
    "<img src=\"hiiii.jpeg\" width=\"250\"> <img src=\"hellooooo.jpeg\" width=\"250\">"
   ]
  },
  {
   "cell_type": "markdown",
   "id": "6474e723-b407-4cb1-9782-052ba3a57860",
   "metadata": {},
   "source": [
    "This leads to the question: **Is it possible to predict whether a patient who has already experienced heart failure will die based on the most influential components of a patient's health?**\n"
   ]
  },
  {
   "cell_type": "markdown",
   "id": "3c88a429-7a53-4c50-b2e6-d551f49d6aa9",
   "metadata": {},
   "source": [
    "To answer this question, we will examine a dataset made up of 13 attributes among 299 patients. This data was retrieved from the `heart_failure_clinical_records_dataset.csv` file in the Heart Disease dataset directory, which may be accessed at: https://archive.ics.uci.edu/ml/datasets/Heart+failure+clinical+records (Chicco et al., 2020).\n"
   ]
  },
  {
   "cell_type": "markdown",
   "id": "5d9142d0-6ad5-45c6-a965-ded87a002487",
   "metadata": {},
   "source": [
    "|Variable|Unit|Values|\n",
    "|--------|----|---------------|\n",
    "|age: age of the patient|years|positive integers|\n",
    "|anaemia: decrease of red blood cells or hemoglobin|NA|0 = false; 1 = true|\n",
    "|high_blood_pressure: if the patient has hypertension|NA|0 = false; 1 = true|\n",
    "|creatinine_phosphokinase: level of the CPK enzyme in the blood|mcg/L|positive integers|\n",
    "|diabetes: if the patient has diabetes|NA|0 = false; 1 = true|\n",
    "|ejection_fraction: percentage of blood leaving the heart at each contraction|%|positive integers|\n",
    "|platelets: platelets in the blood|kiloplatelets/mL|positive integers|\n",
    "|sex: woman or man|NA|0 = female; 1 = male|\n",
    "|serum_creatinine: level of serum creatinine in the blood|mg/dL|positive numbers|\n",
    "|serum_sodium: level of serum sodium in the blood|mEq/L|positive integers|\n",
    "|smoking: if the patient smokes or not|NA|0 = false; 1 = true|\n",
    "|time: follow-up period (285 days)|days|positive integers|\n",
    "|DEATH_EVENT: if the patient deceased during the follow-up period|NA|0 = false; 1 = true|\n",
    "\n"
   ]
  },
  {
   "cell_type": "markdown",
   "id": "306d343c-ecb3-4680-bd50-fe56e218614e",
   "metadata": {},
   "source": [
    "From this table, we can see that our dataset includes many variables. However, for our model to be accurate, we need to include only those which have a significant effect on mortality. According to a study conducted by Ahmad et al. (2017), the variables `age`, `anaemia`, `high_blood_pressure`, `ejection_fraction`, `serum_creatinine` and `serum_sodium` had the greatest influence on the accuracy of their prediction model and as such we will use these variables too."
   ]
  },
  {
   "cell_type": "markdown",
   "id": "f517f91b-ac83-4410-a819-744b1cd20d8b",
   "metadata": {},
   "source": [
    "### Methods"
   ]
  },
  {
   "cell_type": "markdown",
   "id": "6e19777e-0aa6-4d8a-ae2f-04fd1e04c89e",
   "metadata": {},
   "source": [
    "Our objective is to predict the death_event class using the optimal predictor variables, which we will select, to build a K-NN Classification model. The measures we will take to do this are as follows:\n",
    "1. Read-in and tidy the dataset: After loading in the dataset, it must be tidied.\n",
    "2. Train/Test split: The dataset is split into training and testing sets and the accuracy is determined through cross-validation.\n",
    "3. Analyze and summarise our training set: Using scatterplot and bar graph, the cross-validation of the training data is visualized to see the variance in the range and median of the different attributes.\n",
    "4. Discover the ideal 𝑘  value and construct our final model.\n",
    "5. Evaluation and Conclusion.\n"
   ]
  },
  {
   "cell_type": "markdown",
   "id": "63e919d6-8797-450e-a52f-3fa7dd83a95f",
   "metadata": {},
   "source": [
    "### Expected Outcomes"
   ]
  },
  {
   "cell_type": "markdown",
   "id": "5432f478-9f6e-4035-a518-d06f3a812b91",
   "metadata": {},
   "source": [
    "With our algorithm that accurately forecasts fatality in patients with heart failure, our expected outcome would be to correctly predict whether a patient having heart failure will die based on the most influential components affecting it.\n",
    "\t\n",
    "There is a huge impact of our findings as our results can have real-world implications since we could use this model to predict the likelihood that a person having heart failure will die and administer the appropriate level of treatment and monitoring based on other health variables that may be of concern.\n",
    "\n",
    "Future questions that may be resulted from this is if there are any other variables that are in or outside this datatable that will make the classification more accurate in determining the likelihood of death from a patient who’s been through heart failure.\n"
   ]
  },
  {
   "cell_type": "markdown",
   "id": "30c67aaa-8cc7-4e32-ac9b-b27a48f0db9a",
   "metadata": {},
   "source": [
    "### Preliminary exploratory data analysis"
   ]
  },
  {
   "cell_type": "markdown",
   "id": "955a7440-809c-4e2e-bdb4-d699d25a9e32",
   "metadata": {},
   "source": [
    "First, load the libraries:"
   ]
  },
  {
   "cell_type": "code",
   "execution_count": 33,
   "id": "726aa404-2029-4b86-b97b-09e1dad1b405",
   "metadata": {},
   "outputs": [
    {
     "name": "stderr",
     "output_type": "stream",
     "text": [
      "Updating HTML index of packages in '.Library'\n",
      "\n",
      "Making 'packages.html' ...\n",
      " done\n",
      "\n"
     ]
    }
   ],
   "source": [
    "install.packages(\"themis\")\n",
    "\n",
    "library(repr)\n",
    "library(tidyverse)\n",
    "library(tidymodels)\n",
    "library(cowplot)\n",
    "library(GGally)\n",
    "library(themis)"
   ]
  },
  {
   "cell_type": "markdown",
   "id": "c8a27682-e06b-47e1-bc55-d7ba5a25e85a",
   "metadata": {},
   "source": [
    "**Reading in the dataset from the web** and selecting 8 rows to observe."
   ]
  },
  {
   "cell_type": "code",
   "execution_count": 34,
   "id": "2c216e2e-300d-416f-9752-5bafd97e815a",
   "metadata": {},
   "outputs": [
    {
     "name": "stderr",
     "output_type": "stream",
     "text": [
      "\u001b[1mRows: \u001b[22m\u001b[34m299\u001b[39m \u001b[1mColumns: \u001b[22m\u001b[34m13\u001b[39m\n",
      "\u001b[36m──\u001b[39m \u001b[1mColumn specification\u001b[22m \u001b[36m────────────────────────────────────────────────────────\u001b[39m\n",
      "\u001b[1mDelimiter:\u001b[22m \",\"\n",
      "\u001b[32mdbl\u001b[39m (13): age, anaemia, creatinine_phosphokinase, diabetes, ejection_fractio...\n",
      "\n",
      "\u001b[36mℹ\u001b[39m Use `spec()` to retrieve the full column specification for this data.\n",
      "\u001b[36mℹ\u001b[39m Specify the column types or set `show_col_types = FALSE` to quiet this message.\n"
     ]
    },
    {
     "data": {
      "text/html": [
       "<table class=\"dataframe\">\n",
       "<caption>A spec_tbl_df: 8 × 13</caption>\n",
       "<thead>\n",
       "\t<tr><th scope=col>age</th><th scope=col>anaemia</th><th scope=col>creatinine_phosphokinase</th><th scope=col>diabetes</th><th scope=col>ejection_fraction</th><th scope=col>high_blood_pressure</th><th scope=col>platelets</th><th scope=col>serum_creatinine</th><th scope=col>serum_sodium</th><th scope=col>sex</th><th scope=col>smoking</th><th scope=col>time</th><th scope=col>DEATH_EVENT</th></tr>\n",
       "\t<tr><th scope=col>&lt;dbl&gt;</th><th scope=col>&lt;dbl&gt;</th><th scope=col>&lt;dbl&gt;</th><th scope=col>&lt;dbl&gt;</th><th scope=col>&lt;dbl&gt;</th><th scope=col>&lt;dbl&gt;</th><th scope=col>&lt;dbl&gt;</th><th scope=col>&lt;dbl&gt;</th><th scope=col>&lt;dbl&gt;</th><th scope=col>&lt;dbl&gt;</th><th scope=col>&lt;dbl&gt;</th><th scope=col>&lt;dbl&gt;</th><th scope=col>&lt;dbl&gt;</th></tr>\n",
       "</thead>\n",
       "<tbody>\n",
       "\t<tr><td>77</td><td>1</td><td> 109</td><td>0</td><td>50</td><td>1</td><td>406000</td><td>1.10</td><td>137</td><td>1</td><td>0</td><td>209</td><td>0</td></tr>\n",
       "\t<tr><td>70</td><td>0</td><td> 582</td><td>0</td><td>20</td><td>1</td><td>263358</td><td>1.83</td><td>134</td><td>1</td><td>1</td><td> 31</td><td>1</td></tr>\n",
       "\t<tr><td>70</td><td>0</td><td>  92</td><td>0</td><td>60</td><td>1</td><td>317000</td><td>0.80</td><td>140</td><td>0</td><td>1</td><td> 74</td><td>0</td></tr>\n",
       "\t<tr><td>80</td><td>1</td><td> 123</td><td>0</td><td>35</td><td>1</td><td>388000</td><td>9.40</td><td>133</td><td>1</td><td>1</td><td> 10</td><td>1</td></tr>\n",
       "\t<tr><td>49</td><td>0</td><td> 972</td><td>1</td><td>35</td><td>1</td><td>268000</td><td>0.80</td><td>130</td><td>0</td><td>0</td><td>187</td><td>0</td></tr>\n",
       "\t<tr><td>50</td><td>0</td><td>1548</td><td>0</td><td>30</td><td>1</td><td>211000</td><td>0.80</td><td>138</td><td>1</td><td>0</td><td>108</td><td>0</td></tr>\n",
       "\t<tr><td>50</td><td>1</td><td> 249</td><td>1</td><td>35</td><td>1</td><td>319000</td><td>1.00</td><td>128</td><td>0</td><td>0</td><td> 28</td><td>1</td></tr>\n",
       "\t<tr><td>80</td><td>0</td><td> 148</td><td>1</td><td>38</td><td>0</td><td>149000</td><td>1.90</td><td>144</td><td>1</td><td>1</td><td> 23</td><td>1</td></tr>\n",
       "</tbody>\n",
       "</table>\n"
      ],
      "text/latex": [
       "A spec\\_tbl\\_df: 8 × 13\n",
       "\\begin{tabular}{lllllllllllll}\n",
       " age & anaemia & creatinine\\_phosphokinase & diabetes & ejection\\_fraction & high\\_blood\\_pressure & platelets & serum\\_creatinine & serum\\_sodium & sex & smoking & time & DEATH\\_EVENT\\\\\n",
       " <dbl> & <dbl> & <dbl> & <dbl> & <dbl> & <dbl> & <dbl> & <dbl> & <dbl> & <dbl> & <dbl> & <dbl> & <dbl>\\\\\n",
       "\\hline\n",
       "\t 77 & 1 &  109 & 0 & 50 & 1 & 406000 & 1.10 & 137 & 1 & 0 & 209 & 0\\\\\n",
       "\t 70 & 0 &  582 & 0 & 20 & 1 & 263358 & 1.83 & 134 & 1 & 1 &  31 & 1\\\\\n",
       "\t 70 & 0 &   92 & 0 & 60 & 1 & 317000 & 0.80 & 140 & 0 & 1 &  74 & 0\\\\\n",
       "\t 80 & 1 &  123 & 0 & 35 & 1 & 388000 & 9.40 & 133 & 1 & 1 &  10 & 1\\\\\n",
       "\t 49 & 0 &  972 & 1 & 35 & 1 & 268000 & 0.80 & 130 & 0 & 0 & 187 & 0\\\\\n",
       "\t 50 & 0 & 1548 & 0 & 30 & 1 & 211000 & 0.80 & 138 & 1 & 0 & 108 & 0\\\\\n",
       "\t 50 & 1 &  249 & 1 & 35 & 1 & 319000 & 1.00 & 128 & 0 & 0 &  28 & 1\\\\\n",
       "\t 80 & 0 &  148 & 1 & 38 & 0 & 149000 & 1.90 & 144 & 1 & 1 &  23 & 1\\\\\n",
       "\\end{tabular}\n"
      ],
      "text/markdown": [
       "\n",
       "A spec_tbl_df: 8 × 13\n",
       "\n",
       "| age &lt;dbl&gt; | anaemia &lt;dbl&gt; | creatinine_phosphokinase &lt;dbl&gt; | diabetes &lt;dbl&gt; | ejection_fraction &lt;dbl&gt; | high_blood_pressure &lt;dbl&gt; | platelets &lt;dbl&gt; | serum_creatinine &lt;dbl&gt; | serum_sodium &lt;dbl&gt; | sex &lt;dbl&gt; | smoking &lt;dbl&gt; | time &lt;dbl&gt; | DEATH_EVENT &lt;dbl&gt; |\n",
       "|---|---|---|---|---|---|---|---|---|---|---|---|---|\n",
       "| 77 | 1 |  109 | 0 | 50 | 1 | 406000 | 1.10 | 137 | 1 | 0 | 209 | 0 |\n",
       "| 70 | 0 |  582 | 0 | 20 | 1 | 263358 | 1.83 | 134 | 1 | 1 |  31 | 1 |\n",
       "| 70 | 0 |   92 | 0 | 60 | 1 | 317000 | 0.80 | 140 | 0 | 1 |  74 | 0 |\n",
       "| 80 | 1 |  123 | 0 | 35 | 1 | 388000 | 9.40 | 133 | 1 | 1 |  10 | 1 |\n",
       "| 49 | 0 |  972 | 1 | 35 | 1 | 268000 | 0.80 | 130 | 0 | 0 | 187 | 0 |\n",
       "| 50 | 0 | 1548 | 0 | 30 | 1 | 211000 | 0.80 | 138 | 1 | 0 | 108 | 0 |\n",
       "| 50 | 1 |  249 | 1 | 35 | 1 | 319000 | 1.00 | 128 | 0 | 0 |  28 | 1 |\n",
       "| 80 | 0 |  148 | 1 | 38 | 0 | 149000 | 1.90 | 144 | 1 | 1 |  23 | 1 |\n",
       "\n"
      ],
      "text/plain": [
       "  age anaemia creatinine_phosphokinase diabetes ejection_fraction\n",
       "1 77  1        109                     0        50               \n",
       "2 70  0        582                     0        20               \n",
       "3 70  0         92                     0        60               \n",
       "4 80  1        123                     0        35               \n",
       "5 49  0        972                     1        35               \n",
       "6 50  0       1548                     0        30               \n",
       "7 50  1        249                     1        35               \n",
       "8 80  0        148                     1        38               \n",
       "  high_blood_pressure platelets serum_creatinine serum_sodium sex smoking time\n",
       "1 1                   406000    1.10             137          1   0       209 \n",
       "2 1                   263358    1.83             134          1   1        31 \n",
       "3 1                   317000    0.80             140          0   1        74 \n",
       "4 1                   388000    9.40             133          1   1        10 \n",
       "5 1                   268000    0.80             130          0   0       187 \n",
       "6 1                   211000    0.80             138          1   0       108 \n",
       "7 1                   319000    1.00             128          0   0        28 \n",
       "8 0                   149000    1.90             144          1   1        23 \n",
       "  DEATH_EVENT\n",
       "1 0          \n",
       "2 1          \n",
       "3 0          \n",
       "4 1          \n",
       "5 0          \n",
       "6 0          \n",
       "7 1          \n",
       "8 1          "
      ]
     },
     "metadata": {},
     "output_type": "display_data"
    }
   ],
   "source": [
    "heart_data <- read_csv(\"https://archive.ics.uci.edu/ml/machine-learning-databases/00519/heart_failure_clinical_records_dataset.csv\")\n",
    "slice_sample(heart_data, n = 8)"
   ]
  },
  {
   "cell_type": "markdown",
   "id": "d71202a6-065a-4e03-903b-4d001c7e993b",
   "metadata": {},
   "source": [
    "Looking at the `DEATH_EVENT` column, if the variable is 0, it means that the patient is alive. If the variable is 1, it means that the the patient died."
   ]
  },
  {
   "cell_type": "code",
   "execution_count": 35,
   "id": "e5224a0c-3052-4028-890e-405ad345b6b2",
   "metadata": {},
   "outputs": [
    {
     "data": {
      "text/html": [
       "<table class=\"dataframe\">\n",
       "<caption>A tibble: 8 × 8</caption>\n",
       "<thead>\n",
       "\t<tr><th scope=col>age</th><th scope=col>creatinine_phosphokinase</th><th scope=col>ejection_fraction</th><th scope=col>platelets</th><th scope=col>serum_creatinine</th><th scope=col>serum_sodium</th><th scope=col>time</th><th scope=col>DEATH_EVENT</th></tr>\n",
       "\t<tr><th scope=col>&lt;dbl&gt;</th><th scope=col>&lt;dbl&gt;</th><th scope=col>&lt;dbl&gt;</th><th scope=col>&lt;dbl&gt;</th><th scope=col>&lt;dbl&gt;</th><th scope=col>&lt;dbl&gt;</th><th scope=col>&lt;dbl&gt;</th><th scope=col>&lt;dbl&gt;</th></tr>\n",
       "</thead>\n",
       "<tbody>\n",
       "\t<tr><td>50</td><td> 159</td><td>30</td><td>302000</td><td>1.2</td><td>138</td><td> 29</td><td>0</td></tr>\n",
       "\t<tr><td>75</td><td> 582</td><td>20</td><td>265000</td><td>1.9</td><td>130</td><td>  4</td><td>1</td></tr>\n",
       "\t<tr><td>50</td><td>2334</td><td>35</td><td> 75000</td><td>0.9</td><td>142</td><td>126</td><td>1</td></tr>\n",
       "\t<tr><td>55</td><td> 748</td><td>45</td><td>263000</td><td>1.3</td><td>137</td><td> 88</td><td>0</td></tr>\n",
       "\t<tr><td>60</td><td> 231</td><td>25</td><td>194000</td><td>1.7</td><td>140</td><td>120</td><td>0</td></tr>\n",
       "\t<tr><td>63</td><td> 582</td><td>40</td><td>448000</td><td>0.9</td><td>137</td><td>123</td><td>0</td></tr>\n",
       "\t<tr><td>51</td><td> 582</td><td>40</td><td>221000</td><td>0.9</td><td>134</td><td>244</td><td>0</td></tr>\n",
       "\t<tr><td>65</td><td>1688</td><td>38</td><td>263358</td><td>1.1</td><td>138</td><td>250</td><td>0</td></tr>\n",
       "</tbody>\n",
       "</table>\n"
      ],
      "text/latex": [
       "A tibble: 8 × 8\n",
       "\\begin{tabular}{llllllll}\n",
       " age & creatinine\\_phosphokinase & ejection\\_fraction & platelets & serum\\_creatinine & serum\\_sodium & time & DEATH\\_EVENT\\\\\n",
       " <dbl> & <dbl> & <dbl> & <dbl> & <dbl> & <dbl> & <dbl> & <dbl>\\\\\n",
       "\\hline\n",
       "\t 50 &  159 & 30 & 302000 & 1.2 & 138 &  29 & 0\\\\\n",
       "\t 75 &  582 & 20 & 265000 & 1.9 & 130 &   4 & 1\\\\\n",
       "\t 50 & 2334 & 35 &  75000 & 0.9 & 142 & 126 & 1\\\\\n",
       "\t 55 &  748 & 45 & 263000 & 1.3 & 137 &  88 & 0\\\\\n",
       "\t 60 &  231 & 25 & 194000 & 1.7 & 140 & 120 & 0\\\\\n",
       "\t 63 &  582 & 40 & 448000 & 0.9 & 137 & 123 & 0\\\\\n",
       "\t 51 &  582 & 40 & 221000 & 0.9 & 134 & 244 & 0\\\\\n",
       "\t 65 & 1688 & 38 & 263358 & 1.1 & 138 & 250 & 0\\\\\n",
       "\\end{tabular}\n"
      ],
      "text/markdown": [
       "\n",
       "A tibble: 8 × 8\n",
       "\n",
       "| age &lt;dbl&gt; | creatinine_phosphokinase &lt;dbl&gt; | ejection_fraction &lt;dbl&gt; | platelets &lt;dbl&gt; | serum_creatinine &lt;dbl&gt; | serum_sodium &lt;dbl&gt; | time &lt;dbl&gt; | DEATH_EVENT &lt;dbl&gt; |\n",
       "|---|---|---|---|---|---|---|---|\n",
       "| 50 |  159 | 30 | 302000 | 1.2 | 138 |  29 | 0 |\n",
       "| 75 |  582 | 20 | 265000 | 1.9 | 130 |   4 | 1 |\n",
       "| 50 | 2334 | 35 |  75000 | 0.9 | 142 | 126 | 1 |\n",
       "| 55 |  748 | 45 | 263000 | 1.3 | 137 |  88 | 0 |\n",
       "| 60 |  231 | 25 | 194000 | 1.7 | 140 | 120 | 0 |\n",
       "| 63 |  582 | 40 | 448000 | 0.9 | 137 | 123 | 0 |\n",
       "| 51 |  582 | 40 | 221000 | 0.9 | 134 | 244 | 0 |\n",
       "| 65 | 1688 | 38 | 263358 | 1.1 | 138 | 250 | 0 |\n",
       "\n"
      ],
      "text/plain": [
       "  age creatinine_phosphokinase ejection_fraction platelets serum_creatinine\n",
       "1 50   159                     30                302000    1.2             \n",
       "2 75   582                     20                265000    1.9             \n",
       "3 50  2334                     35                 75000    0.9             \n",
       "4 55   748                     45                263000    1.3             \n",
       "5 60   231                     25                194000    1.7             \n",
       "6 63   582                     40                448000    0.9             \n",
       "7 51   582                     40                221000    0.9             \n",
       "8 65  1688                     38                263358    1.1             \n",
       "  serum_sodium time DEATH_EVENT\n",
       "1 138           29  0          \n",
       "2 130            4  1          \n",
       "3 142          126  1          \n",
       "4 137           88  0          \n",
       "5 140          120  0          \n",
       "6 137          123  0          \n",
       "7 134          244  0          \n",
       "8 138          250  0          "
      ]
     },
     "metadata": {},
     "output_type": "display_data"
    }
   ],
   "source": [
    "heart_data <- select(heart_data, -anaemia, -diabetes, -high_blood_pressure, -sex, -smoking)\n",
    "slice_sample(heart_data, n = 8)"
   ]
  },
  {
   "cell_type": "markdown",
   "id": "33c58452-6c5c-483e-a5e0-a69e7bbc45fb",
   "metadata": {},
   "source": [
    "We will then check if any rows contain NA's and remove them."
   ]
  },
  {
   "cell_type": "code",
   "execution_count": 36,
   "id": "64bd8471-2495-4e82-843d-31e4d86c277f",
   "metadata": {},
   "outputs": [
    {
     "data": {
      "text/html": [
       "<table class=\"dataframe\">\n",
       "<caption>A tibble: 0 × 8</caption>\n",
       "<thead>\n",
       "\t<tr><th scope=col>age</th><th scope=col>creatinine_phosphokinase</th><th scope=col>ejection_fraction</th><th scope=col>platelets</th><th scope=col>serum_creatinine</th><th scope=col>serum_sodium</th><th scope=col>time</th><th scope=col>DEATH_EVENT</th></tr>\n",
       "\t<tr><th scope=col>&lt;dbl&gt;</th><th scope=col>&lt;dbl&gt;</th><th scope=col>&lt;dbl&gt;</th><th scope=col>&lt;dbl&gt;</th><th scope=col>&lt;dbl&gt;</th><th scope=col>&lt;dbl&gt;</th><th scope=col>&lt;dbl&gt;</th><th scope=col>&lt;dbl&gt;</th></tr>\n",
       "</thead>\n",
       "<tbody>\n",
       "</tbody>\n",
       "</table>\n"
      ],
      "text/latex": [
       "A tibble: 0 × 8\n",
       "\\begin{tabular}{llllllll}\n",
       " age & creatinine\\_phosphokinase & ejection\\_fraction & platelets & serum\\_creatinine & serum\\_sodium & time & DEATH\\_EVENT\\\\\n",
       " <dbl> & <dbl> & <dbl> & <dbl> & <dbl> & <dbl> & <dbl> & <dbl>\\\\\n",
       "\\hline\n",
       "\\end{tabular}\n"
      ],
      "text/markdown": [
       "\n",
       "A tibble: 0 × 8\n",
       "\n",
       "| age &lt;dbl&gt; | creatinine_phosphokinase &lt;dbl&gt; | ejection_fraction &lt;dbl&gt; | platelets &lt;dbl&gt; | serum_creatinine &lt;dbl&gt; | serum_sodium &lt;dbl&gt; | time &lt;dbl&gt; | DEATH_EVENT &lt;dbl&gt; |\n",
       "|---|---|---|---|---|---|---|---|\n",
       "\n"
      ],
      "text/plain": [
       "     age creatinine_phosphokinase ejection_fraction platelets serum_creatinine\n",
       "     serum_sodium time DEATH_EVENT"
      ]
     },
     "metadata": {},
     "output_type": "display_data"
    }
   ],
   "source": [
    "heart_data[rowSums(is.na(heart_data)) > 0, ]"
   ]
  },
  {
   "cell_type": "markdown",
   "id": "13499545-ed40-4cdc-a08f-71eddc7e3ff5",
   "metadata": {},
   "source": [
    "There aren't any rows containing any missing values. Therefore we do not have to remove any cases from the dataframe."
   ]
  },
  {
   "cell_type": "markdown",
   "id": "f827ed79-8ed2-4c4a-98c6-88d02231b4d5",
   "metadata": {},
   "source": [
    "We then used `mutate` to convert all predictors into numeric data; convert target variable to a factor using `as_factor`."
   ]
  },
  {
   "cell_type": "code",
   "execution_count": 37,
   "id": "8d30e4f6-8b57-4b79-a358-dfc714b6720a",
   "metadata": {},
   "outputs": [
    {
     "data": {
      "text/html": [
       "<table class=\"dataframe\">\n",
       "<caption>A tibble: 1 × 8</caption>\n",
       "<thead>\n",
       "\t<tr><th scope=col>age</th><th scope=col>creatinine_phosphokinase</th><th scope=col>ejection_fraction</th><th scope=col>platelets</th><th scope=col>serum_creatinine</th><th scope=col>serum_sodium</th><th scope=col>time</th><th scope=col>DEATH_EVENT</th></tr>\n",
       "\t<tr><th scope=col>&lt;dbl&gt;</th><th scope=col>&lt;dbl&gt;</th><th scope=col>&lt;dbl&gt;</th><th scope=col>&lt;dbl&gt;</th><th scope=col>&lt;dbl&gt;</th><th scope=col>&lt;dbl&gt;</th><th scope=col>&lt;dbl&gt;</th><th scope=col>&lt;fct&gt;</th></tr>\n",
       "</thead>\n",
       "<tbody>\n",
       "\t<tr><td>75</td><td>582</td><td>20</td><td>265000</td><td>1.9</td><td>130</td><td>4</td><td>1</td></tr>\n",
       "</tbody>\n",
       "</table>\n"
      ],
      "text/latex": [
       "A tibble: 1 × 8\n",
       "\\begin{tabular}{llllllll}\n",
       " age & creatinine\\_phosphokinase & ejection\\_fraction & platelets & serum\\_creatinine & serum\\_sodium & time & DEATH\\_EVENT\\\\\n",
       " <dbl> & <dbl> & <dbl> & <dbl> & <dbl> & <dbl> & <dbl> & <fct>\\\\\n",
       "\\hline\n",
       "\t 75 & 582 & 20 & 265000 & 1.9 & 130 & 4 & 1\\\\\n",
       "\\end{tabular}\n"
      ],
      "text/markdown": [
       "\n",
       "A tibble: 1 × 8\n",
       "\n",
       "| age &lt;dbl&gt; | creatinine_phosphokinase &lt;dbl&gt; | ejection_fraction &lt;dbl&gt; | platelets &lt;dbl&gt; | serum_creatinine &lt;dbl&gt; | serum_sodium &lt;dbl&gt; | time &lt;dbl&gt; | DEATH_EVENT &lt;fct&gt; |\n",
       "|---|---|---|---|---|---|---|---|\n",
       "| 75 | 582 | 20 | 265000 | 1.9 | 130 | 4 | 1 |\n",
       "\n"
      ],
      "text/plain": [
       "  age creatinine_phosphokinase ejection_fraction platelets serum_creatinine\n",
       "1 75  582                      20                265000    1.9             \n",
       "  serum_sodium time DEATH_EVENT\n",
       "1 130          4    1          "
      ]
     },
     "metadata": {},
     "output_type": "display_data"
    }
   ],
   "source": [
    "heart_data <- heart_data |>\n",
    "  mutate(DEATH_EVENT = as_factor(DEATH_EVENT))\n",
    "\n",
    "slice(heart_data, 1)"
   ]
  },
  {
   "cell_type": "markdown",
   "id": "ea45530c-fdc1-4f00-b43f-990222543e64",
   "metadata": {},
   "source": [
    "**After tidying our data to a format that is suitable for analysis, we continue to next step by focusing specifically on the training data.**\n",
    "<br>We choose to split 75% of our original data set into the training set."
   ]
  },
  {
   "cell_type": "code",
   "execution_count": 38,
   "id": "89c8df54-bd1c-47f1-8e8f-5761b131f93b",
   "metadata": {},
   "outputs": [],
   "source": [
    "set.seed(2023)\n",
    "\n",
    "heart_split <- initial_split(heart_data, prop = 0.75, strata = DEATH_EVENT)  \n",
    "heart_train <- training(heart_split)   \n",
    "heart_test <- testing(heart_split)"
   ]
  },
  {
   "cell_type": "markdown",
   "id": "3468864c-b7f8-4b72-9f97-7dcc4609226f",
   "metadata": {},
   "source": [
    "Since all of the predictor variables contains quantitative data, we used `group_by` to separate each class label, and find the mean of each predictor variable under each class label using `summarize` + `across`."
   ]
  },
  {
   "cell_type": "code",
   "execution_count": 39,
   "id": "d4848cd1-ae07-467b-a4e2-16da614019d3",
   "metadata": {},
   "outputs": [
    {
     "data": {
      "text/html": [
       "<table class=\"dataframe\">\n",
       "<caption>A tibble: 2 × 7</caption>\n",
       "<thead>\n",
       "\t<tr><th scope=col>DEATH_EVENT</th><th scope=col>age</th><th scope=col>creatinine_phosphokinase</th><th scope=col>ejection_fraction</th><th scope=col>platelets</th><th scope=col>serum_creatinine</th><th scope=col>serum_sodium</th></tr>\n",
       "\t<tr><th scope=col>&lt;fct&gt;</th><th scope=col>&lt;dbl&gt;</th><th scope=col>&lt;dbl&gt;</th><th scope=col>&lt;dbl&gt;</th><th scope=col>&lt;dbl&gt;</th><th scope=col>&lt;dbl&gt;</th><th scope=col>&lt;dbl&gt;</th></tr>\n",
       "</thead>\n",
       "<tbody>\n",
       "\t<tr><td>0</td><td>58.76191</td><td>540.0542</td><td>40.26601</td><td>266657.5</td><td>1.184877</td><td>137.2167</td></tr>\n",
       "\t<tr><td>1</td><td>65.21528</td><td>670.1979</td><td>33.46875</td><td>256381.0</td><td>1.835833</td><td>135.3750</td></tr>\n",
       "</tbody>\n",
       "</table>\n"
      ],
      "text/latex": [
       "A tibble: 2 × 7\n",
       "\\begin{tabular}{lllllll}\n",
       " DEATH\\_EVENT & age & creatinine\\_phosphokinase & ejection\\_fraction & platelets & serum\\_creatinine & serum\\_sodium\\\\\n",
       " <fct> & <dbl> & <dbl> & <dbl> & <dbl> & <dbl> & <dbl>\\\\\n",
       "\\hline\n",
       "\t 0 & 58.76191 & 540.0542 & 40.26601 & 266657.5 & 1.184877 & 137.2167\\\\\n",
       "\t 1 & 65.21528 & 670.1979 & 33.46875 & 256381.0 & 1.835833 & 135.3750\\\\\n",
       "\\end{tabular}\n"
      ],
      "text/markdown": [
       "\n",
       "A tibble: 2 × 7\n",
       "\n",
       "| DEATH_EVENT &lt;fct&gt; | age &lt;dbl&gt; | creatinine_phosphokinase &lt;dbl&gt; | ejection_fraction &lt;dbl&gt; | platelets &lt;dbl&gt; | serum_creatinine &lt;dbl&gt; | serum_sodium &lt;dbl&gt; |\n",
       "|---|---|---|---|---|---|---|\n",
       "| 0 | 58.76191 | 540.0542 | 40.26601 | 266657.5 | 1.184877 | 137.2167 |\n",
       "| 1 | 65.21528 | 670.1979 | 33.46875 | 256381.0 | 1.835833 | 135.3750 |\n",
       "\n"
      ],
      "text/plain": [
       "  DEATH_EVENT age      creatinine_phosphokinase ejection_fraction platelets\n",
       "1 0           58.76191 540.0542                 40.26601          266657.5 \n",
       "2 1           65.21528 670.1979                 33.46875          256381.0 \n",
       "  serum_creatinine serum_sodium\n",
       "1 1.184877         137.2167    \n",
       "2 1.835833         135.3750    "
      ]
     },
     "metadata": {},
     "output_type": "display_data"
    }
   ],
   "source": [
    "observations <- heart_data |>\n",
    "    group_by(DEATH_EVENT) |>\n",
    "    summarize(across(age:serum_sodium, mean))\n",
    "\n",
    "observations"
   ]
  },
  {
   "cell_type": "markdown",
   "id": "7eb4a57f-f943-4a46-99d7-fd961dc41204",
   "metadata": {},
   "source": [
    "**We can also find the mean of all predictor variables.**"
   ]
  },
  {
   "cell_type": "code",
   "execution_count": 40,
   "id": "5660f76e-73ae-4fd7-bf0a-b85fcbae849e",
   "metadata": {},
   "outputs": [
    {
     "data": {
      "text/html": [
       "<table class=\"dataframe\">\n",
       "<caption>A tibble: 1 × 6</caption>\n",
       "<thead>\n",
       "\t<tr><th scope=col>age</th><th scope=col>creatinine_phosphokinase</th><th scope=col>ejection_fraction</th><th scope=col>platelets</th><th scope=col>serum_creatinine</th><th scope=col>serum_sodium</th></tr>\n",
       "\t<tr><th scope=col>&lt;dbl&gt;</th><th scope=col>&lt;dbl&gt;</th><th scope=col>&lt;dbl&gt;</th><th scope=col>&lt;dbl&gt;</th><th scope=col>&lt;dbl&gt;</th><th scope=col>&lt;dbl&gt;</th></tr>\n",
       "</thead>\n",
       "<tbody>\n",
       "\t<tr><td>61.26935</td><td>550.2902</td><td>37.26786</td><td>265194.4</td><td>1.359955</td><td>136.433</td></tr>\n",
       "</tbody>\n",
       "</table>\n"
      ],
      "text/latex": [
       "A tibble: 1 × 6\n",
       "\\begin{tabular}{llllll}\n",
       " age & creatinine\\_phosphokinase & ejection\\_fraction & platelets & serum\\_creatinine & serum\\_sodium\\\\\n",
       " <dbl> & <dbl> & <dbl> & <dbl> & <dbl> & <dbl>\\\\\n",
       "\\hline\n",
       "\t 61.26935 & 550.2902 & 37.26786 & 265194.4 & 1.359955 & 136.433\\\\\n",
       "\\end{tabular}\n"
      ],
      "text/markdown": [
       "\n",
       "A tibble: 1 × 6\n",
       "\n",
       "| age &lt;dbl&gt; | creatinine_phosphokinase &lt;dbl&gt; | ejection_fraction &lt;dbl&gt; | platelets &lt;dbl&gt; | serum_creatinine &lt;dbl&gt; | serum_sodium &lt;dbl&gt; |\n",
       "|---|---|---|---|---|---|\n",
       "| 61.26935 | 550.2902 | 37.26786 | 265194.4 | 1.359955 | 136.433 |\n",
       "\n"
      ],
      "text/plain": [
       "  age      creatinine_phosphokinase ejection_fraction platelets\n",
       "1 61.26935 550.2902                 37.26786          265194.4 \n",
       "  serum_creatinine serum_sodium\n",
       "1 1.359955         136.433     "
      ]
     },
     "metadata": {},
     "output_type": "display_data"
    }
   ],
   "source": [
    "observations_2 <- heart_train |> \n",
    "summarize(across(age:serum_sodium, mean))\n",
    "\n",
    "observations_2"
   ]
  },
  {
   "cell_type": "markdown",
   "id": "5a26dbc3-1ea1-4649-94f8-33d940841b2a",
   "metadata": {},
   "source": [
    "**Next, we use `group_by` + `summarize` to find out the distribution of each of our target variable (DEATH_EVENT).**"
   ]
  },
  {
   "cell_type": "code",
   "execution_count": 41,
   "id": "585c35cd-dfb7-48f7-a036-697fee841fcd",
   "metadata": {},
   "outputs": [
    {
     "data": {
      "text/html": [
       "<table class=\"dataframe\">\n",
       "<caption>A tibble: 2 × 2</caption>\n",
       "<thead>\n",
       "\t<tr><th scope=col>DEATH_EVENT</th><th scope=col>count</th></tr>\n",
       "\t<tr><th scope=col>&lt;fct&gt;</th><th scope=col>&lt;int&gt;</th></tr>\n",
       "</thead>\n",
       "<tbody>\n",
       "\t<tr><td>0</td><td>152</td></tr>\n",
       "\t<tr><td>1</td><td> 72</td></tr>\n",
       "</tbody>\n",
       "</table>\n"
      ],
      "text/latex": [
       "A tibble: 2 × 2\n",
       "\\begin{tabular}{ll}\n",
       " DEATH\\_EVENT & count\\\\\n",
       " <fct> & <int>\\\\\n",
       "\\hline\n",
       "\t 0 & 152\\\\\n",
       "\t 1 &  72\\\\\n",
       "\\end{tabular}\n"
      ],
      "text/markdown": [
       "\n",
       "A tibble: 2 × 2\n",
       "\n",
       "| DEATH_EVENT &lt;fct&gt; | count &lt;int&gt; |\n",
       "|---|---|\n",
       "| 0 | 152 |\n",
       "| 1 |  72 |\n",
       "\n"
      ],
      "text/plain": [
       "  DEATH_EVENT count\n",
       "1 0           152  \n",
       "2 1            72  "
      ]
     },
     "metadata": {},
     "output_type": "display_data"
    }
   ],
   "source": [
    "observations_count <- heart_train |>\n",
    "    group_by(DEATH_EVENT) |>\n",
    "    summarize(count=n())\n",
    "observations_count"
   ]
  },
  {
   "cell_type": "markdown",
   "id": "c6b469e4-3acf-4b9c-894c-d46b353f78b1",
   "metadata": {},
   "source": [
    "**We can use a bar graph to plot the distribution.**"
   ]
  },
  {
   "cell_type": "code",
   "execution_count": 42,
   "id": "bd3d8178-2078-4727-b5f6-b75ddf9af64e",
   "metadata": {},
   "outputs": [
    {
     "data": {
      "image/png": "[encoded data removed]",
      "text/plain": [
       "plot without title"
      ]
     },
     "metadata": {
      "image/png": {
       "height": 330,
       "width": 360
      }
     },
     "output_type": "display_data"
    }
   ],
   "source": [
    "options(repr.plot.width = 6, repr.plot.height = 5.5)\n",
    "\n",
    "heart_plot <- ggplot(observations_count, aes(x = DEATH_EVENT, y = count, fill = DEATH_EVENT)) +\n",
    "  geom_bar(stat = \"identity\") +\n",
    "  labs(x = \"Death_Event (0 or 1)\", y = \"Number of Observations\") +\n",
    "  ggtitle(\"Death Distribution\") +\n",
    "  theme(text = element_text(size = 20))\n",
    "\n",
    "heart_plot"
   ]
  },
  {
   "cell_type": "markdown",
   "id": "a35f17bf-b2f7-48ca-85f2-dc34ead09bac",
   "metadata": {},
   "source": [
    "One problem that could arise when making a prediction model on our data set is class imbalance, where some classes have fewer instances than others. To address this in our final project, we plan to incorporate an oversampling step using the `step_upsample` function from the `themis` R package. This will solve the problem of the underrepresented class not having enough data in the K-nearest neighbor algorithm."
   ]
  },
  {
   "cell_type": "code",
   "execution_count": 43,
   "id": "85056350-1afc-435e-9ff7-4cf60f72e6e2",
   "metadata": {},
   "outputs": [],
   "source": [
    "age_graph <- ggplot(heart_train, aes(x = age, y = DEATH_EVENT, fill = DEATH_EVENT)) +\n",
    "    geom_boxplot(alpha = 0.4) +\n",
    "    xlab(\"Age\") +\n",
    "    ylab(\"Death Event\") +\n",
    "    theme(text = element_text(size = 14))\n",
    "creatinine_phosphokinase_graph <- ggplot(heart_train, aes(x = creatinine_phosphokinase, y = DEATH_EVENT, fill = DEATH_EVENT)) +\n",
    "    geom_boxplot(alpha = 0.4) +\n",
    "    xlab(\"Creatinine Phosphokinase\") +\n",
    "    ylab(\"Death Event\") +\n",
    "    theme(text = element_text(size = 14))\n",
    "ejection_fraction_graph <- ggplot(heart_train, aes(x = ejection_fraction, y = DEATH_EVENT, fill = DEATH_EVENT)) +\n",
    "    geom_boxplot(alpha = 0.4) +\n",
    "    xlab(\"Ejection Fraction\") +\n",
    "    ylab(\"Death Event\") +\n",
    "    theme(text = element_text(size = 14))\n",
    "serum_creatinine_graph <- ggplot(heart_train, aes(x = serum_creatinine, y = DEATH_EVENT, fill = DEATH_EVENT)) +\n",
    "    geom_boxplot(alpha = 0.4) +\n",
    "    xlab(\"Serum Creatinine\") +\n",
    "    ylab(\"Death Event\") +\n",
    "    theme(text = element_text(size = 14))\n",
    "platelets_graph <- ggplot(heart_train, aes(x = platelets, y = DEATH_EVENT, fill = DEATH_EVENT)) +\n",
    "    geom_boxplot(alpha = 0.4) +\n",
    "    xlab(\"Platelets\") +\n",
    "    ylab(\"Death Event\") +\n",
    "    theme(text = element_text(size = 14))\n",
    "serum_sodium_graph <- ggplot(heart_train, aes(x = serum_sodium, y = DEATH_EVENT, fill = DEATH_EVENT)) +\n",
    "    geom_boxplot(alpha = 0.4) +\n",
    "    xlab(\"Serum Sodium\") +\n",
    "    ylab(\"Death Event\") +\n",
    "    theme(text = element_text(size = 14))\n",
    "time_graph <- ggplot(heart_train, aes(x = time, y = DEATH_EVENT, fill = DEATH_EVENT)) +\n",
    "    geom_boxplot(alpha = 0.4) +\n",
    "    xlab(\"Time\") +\n",
    "    ylab(\"Death Event\") +\n",
    "    theme(text = element_text(size = 14))"
   ]
  },
  {
   "cell_type": "code",
   "execution_count": 44,
   "id": "71e7d08f-600b-4309-af7d-14f901204de7",
   "metadata": {},
   "outputs": [
    {
     "data": {
      "image/png": "[encoded data removed]",
      "text/plain": [
       "plot without title"
      ]
     },
     "metadata": {
      "image/png": {
       "height": 600,
       "width": 1080
      }
     },
     "output_type": "display_data"
    }
   ],
   "source": [
    "options(repr.plot.width = 18, repr.plot.height = 10)\n",
    "\n",
    "plot_grid(age_graph,\n",
    "          creatinine_phosphokinase_graph,\n",
    "          platelets_graph,\n",
    "          ejection_fraction_graph, \n",
    "          serum_creatinine_graph,\n",
    "          serum_sodium_graph,\n",
    "          time_graph,\n",
    "          labels = c(\"A\", \"B\", \"C\", \"D\", \"E\", \"F\", \"G\"),\n",
    "          ncol = 3)"
   ]
  },
  {
   "cell_type": "markdown",
   "id": "584e4c9b-ab14-44e1-9276-2790ed233035",
   "metadata": {},
   "source": [
    "- We can visualize the range and median of values for each predictor variable separated by `DEATH_EVENT` using `ggplot()` and `geom_boxplot()`.\n",
    "- By looking at the boxplots for our training/testing split, we can see that the variables `age`, `ejectioin_fraction`, `serum_sodium`, and `time` vary in range and median for each category of `DEATH_EVENT`. This means that they may have a significant impact on predicting whether patients die or not.\n",
    "- From the plots of `creatinine_phosphokinase`, `platelets`, and `serum_creatinine`, we can see that they do not vary much in range, median or both."
   ]
  },
  {
   "cell_type": "code",
   "execution_count": 45,
   "id": "4293ef43-3b83-4264-9f71-239c896ea503",
   "metadata": {},
   "outputs": [
    {
     "data": {
      "text/html": [
       "<style>\n",
       ".dl-inline {width: auto; margin:0; padding: 0}\n",
       ".dl-inline>dt, .dl-inline>dd {float: none; width: auto; display: inline-block}\n",
       ".dl-inline>dt::after {content: \":\\0020\"; padding-right: .5ex}\n",
       ".dl-inline>dt:not(:first-of-type) {padding-left: .5ex}\n",
       "</style><dl class=dl-inline><dt>age</dt><dd>12.277247709205</dd><dt>creatinine_phosphokinase</dt><dd>980.912040457181</dd><dt>ejection_fraction</dt><dd>11.6314728006875</dd><dt>platelets</dt><dd>95801.7168534062</dd><dt>serum_creatinine</dt><dd>0.907442321861177</dd><dt>serum_sodium</dt><dd>4.01286917232975</dd><dt>time</dt><dd>77.4687305178013</dd><dt>DEATH_EVENT</dt><dd>0.468070856509616</dd></dl>\n"
      ],
      "text/latex": [
       "\\begin{description*}\n",
       "\\item[age] 12.277247709205\n",
       "\\item[creatinine\\textbackslash{}\\_phosphokinase] 980.912040457181\n",
       "\\item[ejection\\textbackslash{}\\_fraction] 11.6314728006875\n",
       "\\item[platelets] 95801.7168534062\n",
       "\\item[serum\\textbackslash{}\\_creatinine] 0.907442321861177\n",
       "\\item[serum\\textbackslash{}\\_sodium] 4.01286917232975\n",
       "\\item[time] 77.4687305178013\n",
       "\\item[DEATH\\textbackslash{}\\_EVENT] 0.468070856509616\n",
       "\\end{description*}\n"
      ],
      "text/markdown": [
       "age\n",
       ":   12.277247709205creatinine_phosphokinase\n",
       ":   980.912040457181ejection_fraction\n",
       ":   11.6314728006875platelets\n",
       ":   95801.7168534062serum_creatinine\n",
       ":   0.907442321861177serum_sodium\n",
       ":   4.01286917232975time\n",
       ":   77.4687305178013DEATH_EVENT\n",
       ":   0.468070856509616\n",
       "\n"
      ],
      "text/plain": [
       "                     age creatinine_phosphokinase        ejection_fraction \n",
       "            1.227725e+01             9.809120e+02             1.163147e+01 \n",
       "               platelets         serum_creatinine             serum_sodium \n",
       "            9.580172e+04             9.074423e-01             4.012869e+00 \n",
       "                    time              DEATH_EVENT \n",
       "            7.746873e+01             4.680709e-01 "
      ]
     },
     "metadata": {},
     "output_type": "display_data"
    }
   ],
   "source": [
    "apply(heart_train, 2, sd)"
   ]
  },
  {
   "cell_type": "markdown",
   "id": "78536ca6-d1a1-4c01-be67-dc2a7425a28c",
   "metadata": {},
   "source": [
    "- We can `apply()` the `sd` function to all columns in `heart_train` to find the standard deviation of each predictor variable. \n",
    "- By looking at the standard deviation of each predictor variable, we can see that `serum_creatinine`, `serum_sodium`, and `DEATH_EVENT` have data clustered around the mean more than the other predictor variables."
   ]
  },
  {
   "cell_type": "markdown",
   "id": "ab87cf29-3c2a-4cbb-a481-766eeafc1fba",
   "metadata": {},
   "source": [
    "### Analyzing and Selecting Predictor Variables"
   ]
  },
  {
   "cell_type": "markdown",
   "id": "fc077b60-6d50-468e-a256-12d8aa2dd26b",
   "metadata": {},
   "source": [
    "- To find out how many variables are needed for the highest accuracy, we will create distinct recipes for each set of variables. Then we will compare the accuracy of the models \n",
    "- This can be done by tuning for the first 20 k values performing 5 fold cross validation.\n",
    "- The data must be scaled and centered to ensure that every single variable doesn't have too large or too little of an effect on the prediction model."
   ]
  },
  {
   "cell_type": "code",
   "execution_count": 46,
   "id": "13546425-6b71-470a-bc26-7d141f292746",
   "metadata": {},
   "outputs": [],
   "source": [
    "heart_vfold <- vfold_cv(heart_train, v = 5, strata = DEATH_EVENT)\n",
    "\n",
    "gridvals <- tibble(neighbors = seq(1, 20))\n",
    "\n",
    "knn_spec <- nearest_neighbor(weight_func = \"rectangular\", neighbors = tune()) |>\n",
    "    set_engine(\"kknn\") |>\n",
    "    set_mode(\"classification\")"
   ]
  },
  {
   "cell_type": "code",
   "execution_count": 47,
   "id": "535f057e-1daa-4259-ba32-a2b1c076b385",
   "metadata": {},
   "outputs": [],
   "source": [
    "a_recipe <- recipe(DEATH_EVENT ~ age, heart_train) |>\n",
    "    step_scale(all_predictors()) |>\n",
    "    step_center(all_predictors())\n",
    "\n",
    "a_results <- workflow() |>\n",
    "    add_recipe(a_recipe) |>\n",
    "    add_model(knn_spec) |>\n",
    "    tune_grid(resamples = heart_vfold, grid = gridvals) |>\n",
    "    collect_metrics() |>\n",
    "    filter(.metric == \"accuracy\")\n",
    "\n",
    "a_results_best <- a_results |>\n",
    "    arrange(desc(mean)) |>\n",
    "    slice(1) |>\n",
    "    pull(mean)"
   ]
  },
  {
   "cell_type": "code",
   "execution_count": 48,
   "id": "0a8a44e0-b310-4e34-9d92-bac873d33070",
   "metadata": {},
   "outputs": [],
   "source": [
    "ae_recipe <- recipe(DEATH_EVENT ~ age + ejection_fraction, heart_train) |>\n",
    "    step_scale(all_predictors()) |>\n",
    "    step_center(all_predictors())\n",
    "\n",
    "ae_results <- workflow() |>\n",
    "    add_recipe(ae_recipe) |>\n",
    "    add_model(knn_spec) |>\n",
    "    tune_grid(resamples = heart_vfold, grid = gridvals) |>\n",
    "    collect_metrics() |>\n",
    "    filter(.metric == \"accuracy\")\n",
    "\n",
    "ae_results_best <- ae_results |>\n",
    "    arrange(desc(mean)) |>\n",
    "    slice(1) |>\n",
    "    pull(mean)"
   ]
  },
  {
   "cell_type": "code",
   "execution_count": 49,
   "id": "99f12992-230a-4e4d-bdf9-9af7964359e4",
   "metadata": {},
   "outputs": [],
   "source": [
    "aes_recipe <- recipe(DEATH_EVENT ~ age + ejection_fraction + serum_sodium, heart_train) |>\n",
    "    step_scale(all_predictors()) |>\n",
    "    step_center(all_predictors())\n",
    "\n",
    "aes_results <- workflow() |>\n",
    "    add_recipe(aes_recipe) |>\n",
    "    add_model(knn_spec) |>\n",
    "    tune_grid(resamples = heart_vfold, grid = gridvals) |>\n",
    "    collect_metrics() |>\n",
    "    filter(.metric == \"accuracy\")\n",
    "\n",
    "aes_results_best <- aes_results |>\n",
    "    arrange(desc(mean)) |>\n",
    "    slice(1) |>\n",
    "    pull(mean)"
   ]
  },
  {
   "cell_type": "code",
   "execution_count": 50,
   "id": "20367c0a-79c4-43a7-b2ad-b28ed17b0685",
   "metadata": {},
   "outputs": [],
   "source": [
    "aest_recipe <- recipe(DEATH_EVENT ~ age + ejection_fraction + serum_sodium + time, heart_train) |>\n",
    "    step_scale(all_predictors()) |>\n",
    "    step_center(all_predictors())\n",
    "\n",
    "aest_results <- workflow() |>\n",
    "    add_recipe(aest_recipe) |>\n",
    "    add_model(knn_spec) |>\n",
    "    tune_grid(resamples = heart_vfold, grid = gridvals) |>\n",
    "    collect_metrics() |>\n",
    "    filter(.metric == \"accuracy\")\n",
    "\n",
    "aest_results_best <- aest_results |>\n",
    "    arrange(desc(mean)) |>\n",
    "    slice(1) |>\n",
    "    pull(mean)"
   ]
  },
  {
   "cell_type": "code",
   "execution_count": 51,
   "id": "a126ff78-3abe-42eb-b656-663a6c5a7d49",
   "metadata": {},
   "outputs": [
    {
     "data": {
      "text/html": [
       "<table class=\"dataframe\">\n",
       "<caption>A tibble: 4 × 2</caption>\n",
       "<thead>\n",
       "\t<tr><th scope=col>Predictor Variables</th><th scope=col>Accuracy</th></tr>\n",
       "\t<tr><th scope=col>&lt;chr&gt;</th><th scope=col>&lt;dbl&gt;</th></tr>\n",
       "</thead>\n",
       "<tbody>\n",
       "\t<tr><td>age                                          </td><td>0.7094862</td></tr>\n",
       "\t<tr><td>age + ejection_fraction                      </td><td>0.7638340</td></tr>\n",
       "\t<tr><td>age + ejection_fraction + serum_sodium       </td><td>0.7369565</td></tr>\n",
       "\t<tr><td>age + ejection_fraction + serum_sodium + time</td><td>0.8355731</td></tr>\n",
       "</tbody>\n",
       "</table>\n"
      ],
      "text/latex": [
       "A tibble: 4 × 2\n",
       "\\begin{tabular}{ll}\n",
       " Predictor Variables & Accuracy\\\\\n",
       " <chr> & <dbl>\\\\\n",
       "\\hline\n",
       "\t age                                           & 0.7094862\\\\\n",
       "\t age + ejection\\_fraction                       & 0.7638340\\\\\n",
       "\t age + ejection\\_fraction + serum\\_sodium        & 0.7369565\\\\\n",
       "\t age + ejection\\_fraction + serum\\_sodium + time & 0.8355731\\\\\n",
       "\\end{tabular}\n"
      ],
      "text/markdown": [
       "\n",
       "A tibble: 4 × 2\n",
       "\n",
       "| Predictor Variables &lt;chr&gt; | Accuracy &lt;dbl&gt; |\n",
       "|---|---|\n",
       "| age                                           | 0.7094862 |\n",
       "| age + ejection_fraction                       | 0.7638340 |\n",
       "| age + ejection_fraction + serum_sodium        | 0.7369565 |\n",
       "| age + ejection_fraction + serum_sodium + time | 0.8355731 |\n",
       "\n"
      ],
      "text/plain": [
       "  Predictor Variables                           Accuracy \n",
       "1 age                                           0.7094862\n",
       "2 age + ejection_fraction                       0.7638340\n",
       "3 age + ejection_fraction + serum_sodium        0.7369565\n",
       "4 age + ejection_fraction + serum_sodium + time 0.8355731"
      ]
     },
     "metadata": {},
     "output_type": "display_data"
    }
   ],
   "source": [
    "model <- c(\"age\", \n",
    "           \"age + ejection_fraction\", \n",
    "           \"age + ejection_fraction + serum_sodium\", \n",
    "           \"age + ejection_fraction + serum_sodium + time\")\n",
    "\n",
    "accuracy <- c(a_results_best, ae_results_best, aes_results_best, aest_results_best)\n",
    "\n",
    "accuracy_table <- tibble(`Predictor Variables` = model, `Accuracy` = accuracy)\n",
    "\n",
    "accuracy_table"
   ]
  },
  {
   "cell_type": "markdown",
   "id": "246dc294-772c-4bca-809f-174e999af5a3",
   "metadata": {},
   "source": [
    "- Looking at the table, we can see that using all four variables yields the highest prediction accuracy.\n",
    "- Hence, we will use all four variables to build our prediction variables."
   ]
  },
  {
   "cell_type": "markdown",
   "id": "868489b4-bb38-4720-935d-885e5197a6c2",
   "metadata": {},
   "source": [
    "### Finding the Optimal `K` Value and Building the Final Model"
   ]
  },
  {
   "cell_type": "markdown",
   "id": "ddb1dc70-d63b-4bec-a56f-f16c4d7d6fdb",
   "metadata": {},
   "source": [
    "- Using a large range of `K` values will increase the processing time. As Lall and Sharma note, the optimal `K` value is approximately equal to the square root of the number of observations.\n",
    "- Hence, our `K` value is approximately equal to $\\sqrt{224}$.\n",
    "- Therefore, we will test for the first 20 `K` values. "
   ]
  },
  {
   "cell_type": "code",
   "execution_count": null,
   "id": "76546a97-7f4b-4b6e-8123-cc9c7671fcc4",
   "metadata": {},
   "outputs": [],
   "source": [
    "k_vals <- tibble(neighbors = 1:20)\n",
    "\n",
    "\n",
    "heart_results <- workflow() |>\n",
    "    add_recipe(aest_recipe) |> # aest_recipe is previously defined\n",
    "    add_model(knn_spec) |>\n",
    "    tune_grid(resamples = heart_vfold, grid = k_vals) |>\n",
    "    collect_metrics() |>\n",
    "    filter(.metric == \"accuracy\")\n",
    "heart_results |>\n",
    "    arrange(desc(mean))"
   ]
  },
  {
   "cell_type": "markdown",
   "id": "02c2f513-ece4-4f21-9f25-7bb65d5bf95e",
   "metadata": {},
   "source": [
    "Plot the data from the table above to find the optimal `K` value."
   ]
  },
  {
   "cell_type": "code",
   "execution_count": null,
   "id": "cd0bfd06-c388-4f25-8020-8ff121aaed8c",
   "metadata": {},
   "outputs": [],
   "source": [
    "options(repr.plot.width = 16, repr.plot.height = 8)\n",
    "\n",
    "\n",
    "k_accuracies_plot <- heart_results |>\n",
    "    ggplot(aes(x = neighbors, y = mean)) +\n",
    "    geom_point() +\n",
    "    geom_line() +\n",
    "    labs(x = \"K Value\", y = \"Average Accuracy for 10-fold CV\") +\n",
    "    ggtitle(\"Accuracies Across Different K Values\") +\n",
    "    theme(text = element_text(size = 20)) +\n",
    "    theme(plot.title = element_text(hjust = 0.5))\n",
    "\n",
    "k_accuracies_plot"
   ]
  },
  {
   "cell_type": "markdown",
   "id": "ed1c36ed-6444-4a92-8877-be511e5665b1",
   "metadata": {},
   "source": [
    "### Building the Final `K` Model"
   ]
  },
  {
   "cell_type": "markdown",
   "id": "742c8cbf-da43-446e-b6f3-ea43c6c1e49d",
   "metadata": {},
   "source": [
    "# !!!!"
   ]
  },
  {
   "cell_type": "code",
   "execution_count": null,
   "id": "6abbb410-fcf8-43c9-89d7-fe9067b98898",
   "metadata": {},
   "outputs": [],
   "source": [
    "best_knn_spec <- nearest_neighbor(weight_func = \"rectangular\", neighbors = 50) |>\n",
    "  set_engine(\"kknn\") |>\n",
    "  set_mode(\"classification\")\n",
    "\n",
    "# aest_recipe is previously defined\n",
    "heart_fit <- workflow() |>\n",
    "    add_recipe(aest_recipe) |>\n",
    "    add_model(best_knn_spec) |>\n",
    "    fit(data = heart_train)\n",
    "\n",
    "print(\"Figure 5.2: Final Classification Model\")\n",
    "heart_fit"
   ]
  },
  {
   "cell_type": "markdown",
   "id": "b9603086-40d5-4b01-9d6c-e5b504f3d642",
   "metadata": {},
   "source": [
    "### Model Evaluation and Conclusion"
   ]
  },
  {
   "cell_type": "markdown",
   "id": "fa017116-3164-4236-a02f-31492920d02c",
   "metadata": {},
   "source": [
    "# !!!!"
   ]
  },
  {
   "cell_type": "code",
   "execution_count": null,
   "id": "04ee280b-8e35-4344-afa2-feeda18df550",
   "metadata": {},
   "outputs": [],
   "source": [
    "heart_predictions <- predict(heart_fit, heart_test) |>\n",
    "    bind_cols(heart_test)\n",
    "heart_acc <- heart_predictions |>\n",
    "    metrics(truth = DEATH_EVENT, estimate = .pred_class) |>\n",
    "    select(.metric, .estimate) |>\n",
    "    head(1)\n",
    "\n",
    "print(\"Model Accuracy on the Testing Set\")\n",
    "heart_acc"
   ]
  },
  {
   "cell_type": "code",
   "execution_count": null,
   "id": "0ac482f6-c305-4b5e-8eb0-af5677ee05ba",
   "metadata": {},
   "outputs": [],
   "source": [
    "options(repr.plot.width = 8, repr.plot.height = 8)\n",
    "\n",
    "heart_matrix <- heart_predictions |>\n",
    "    conf_mat(truth = DEATH_EVENT, estimate = .pred_class) |>\n",
    "     autoplot(type = \"heatmap\") +\n",
    "    scale_fill_gradient(low=\"#D6EAF8\",high = \"#2E86C1\") +\n",
    "    labs(title = \"Confusion Matrix of the Results\") +\n",
    "    theme(text = element_text(size = 20)) +\n",
    "    theme(plot.title = element_text(hjust = 0.5))\n",
    "\n",
    "heart_matrix"
   ]
  },
  {
   "cell_type": "code",
   "execution_count": null,
   "id": "24246430-a441-4e60-bf7d-b7a861192730",
   "metadata": {},
   "outputs": [],
   "source": [
    "observations |>\n",
    "    select(-creatinine_phosphokinase, -platelets, -serum_creatinine) |>\n",
    "    print()"
   ]
  },
  {
   "cell_type": "code",
   "execution_count": null,
   "id": "945edcc1-d55e-43f9-ac14-2431242c0cf6",
   "metadata": {},
   "outputs": [],
   "source": [
    "options(repr.plot.width = 16, repr.plot.height = 8)\n",
    "age_vs_ef <- heart_data |>\n",
    "    ggplot(aes(x = age, y = ejection_fraction)) +\n",
    "    geom_point(color = \"red\") +\n",
    "    labs(title = \"Age VS Ejection Fraction\", x = \"Age (Years)\", y = \"Ejection Fraction\") +\n",
    "    theme(text = element_text(size = 17)) +\n",
    "    theme(plot.title = element_text(hjust = 0.5))\n",
    "\n",
    "age_vs_ss <- heart_data |>\n",
    "    ggplot(aes(x = age, y = serum_sodium)) +\n",
    "    geom_point(color = \"blue\") +\n",
    "    labs(title = \"Age VS Serum Sodium\", x = \"Age\", y = \"Serum Sodium\") +\n",
    "    theme(text = element_text(size = 17)) +\n",
    "    theme(plot.title = element_text(hjust = 0.5))\n",
    "\n",
    "age_vs_time <- heart_data |>\n",
    "    ggplot(aes(x = age, y = time)) +\n",
    "    geom_point(color = \"red\") +\n",
    "    labs(title = \"Age VS Time\", x = \"Age (Years)\", y = \"Time\") +\n",
    "    theme(text = element_text(size = 17)) +\n",
    "    theme(plot.title = element_text(hjust = 0.5))\n",
    "\n",
    "ef_vs_ss <- heart_data |>\n",
    "    ggplot(aes(x = ejection_fraction, y = serum_sodium)) +\n",
    "    geom_point(color = \"yellow\") +\n",
    "    labs(title = \"Ejection Fraction VS Serum Sodium\", x = \"Ejection Fraction\", y = \"Serum Sodium\") +\n",
    "    theme(text = element_text(size = 17)) +\n",
    "    theme(plot.title = element_text(hjust = 0.5))\n",
    "\n",
    "ef_vs_time <- heart_data |>\n",
    "    ggplot(aes(x = ejection_fraction, y = time)) +\n",
    "    geom_point(color = \"purple\") +\n",
    "    labs(title = \"Ejection Fraction VS Time\", x = \"Ejection Fraction\", y = \"Time\") +\n",
    "    theme(text = element_text(size = 17)) +\n",
    "    theme(plot.title = element_text(hjust = 0.5))\n",
    "\n",
    "ss_vs_time <- heart_data |>\n",
    "    ggplot(aes(x = time, y = serum_sodium)) +\n",
    "    geom_point(color = \"black\") +\n",
    "    labs(title = \"Serum Sodium VS Time\", x = \"Time\", y = \"Serum Sodium\") +\n",
    "    theme(text = element_text(size = 17)) +\n",
    "    theme(plot.title = element_text(hjust = 0.5))\n",
    "\n",
    "predictor_relation_plot <- plot_grid(age_vs_ef, age_vs_ss, age_vs_time, ef_vs_ss, ef_vs_time, ss_vs_time, ncol = 3)\n",
    "\n",
    "predictor_relation_plot"
   ]
  },
  {
   "cell_type": "code",
   "execution_count": null,
   "id": "df3b98a1-ac83-4aa6-a1d1-8d346bedec7c",
   "metadata": {},
   "outputs": [],
   "source": []
  },
  {
   "cell_type": "code",
   "execution_count": null,
   "id": "12d1a4f7-7347-47a4-8407-67bd1ea33702",
   "metadata": {},
   "outputs": [],
   "source": []
  },
  {
   "cell_type": "markdown",
   "id": "0d8887f6-5e28-42cb-8a5a-4fbd2811cffd",
   "metadata": {},
   "source": [
    "### References"
   ]
  },
  {
   "cell_type": "markdown",
   "id": "918ab9f7-0d9d-4284-a179-4f286b716ad7",
   "metadata": {},
   "source": [
    "National Guideline Centre (UK). Chronic Heart Failure in Adults: Diagnosis and Management. London: National Institute for Health and Care Excellence (NICE); 2018 Sep. (NICE Guideline, No. 106.) 2, Introduction. Available from: https://www.ncbi.nlm.nih.gov/books/NBK536089/.\n"
   ]
  },
  {
   "cell_type": "code",
   "execution_count": null,
   "id": "73a77baa-e150-4483-befa-85115d7505b2",
   "metadata": {},
   "outputs": [],
   "source": []
  }
 ],
 "metadata": {
  "kernelspec": {
   "display_name": "R",
   "language": "R",
   "name": "ir"
  },
  "language_info": {
   "codemirror_mode": "r",
   "file_extension": ".r",
   "mimetype": "text/x-r-source",
   "name": "R",
   "pygments_lexer": "r",
   "version": "4.1.3"
  }
 },
 "nbformat": 4,
 "nbformat_minor": 5
}
