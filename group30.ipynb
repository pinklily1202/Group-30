{
 "cells": [
  {
   "cell_type": "markdown",
   "id": "c0a91549-2016-410e-a32e-e364e981c2e6",
   "metadata": {},
   "source": [
    "# Analyzing Data to Investigate Risk Factors in Heart Failure Patients to Predict Mortality "
   ]
  },
  {
   "cell_type": "markdown",
   "id": "dbde98d0-bd99-459b-acd2-67b8a9113641",
   "metadata": {},
   "source": [
    "### Introduction"
   ]
  },
  {
   "cell_type": "markdown",
   "id": "26969ba2-1203-4f01-b7de-9368b8a5f337",
   "metadata": {},
   "source": [
    "A prevalent complex clinical combination of symptoms and signs known as heart failure is brought on by a decrease in the heart's function as a pump supporting the circulatory system (National Guideline Centre, 2018). The death risk in the first year after treatment is about 35% while the risk of death is less than 10% in the second year for those that are still alive (National Clinical Guideline Centre, 2010). Data analysis on heart failure is significant because it can provide valuable insights into the causes and  risk factors of heart failure. We will look into different patients’ health reports and their experience of heart failure to help us determine the factors that are most influential in predicting possible death of patients with heart failure. \n"
   ]
  },
  {
   "cell_type": "markdown",
   "id": "4b6cff82-1417-468c-a760-855ab0b4e87b",
   "metadata": {},
   "source": [
    "<img src=\"hiiii.jpeg\" width=\"250\"> <img src=\"hellooooo.jpeg\" width=\"250\">"
   ]
  },
  {
   "cell_type": "markdown",
   "id": "6474e723-b407-4cb1-9782-052ba3a57860",
   "metadata": {},
   "source": [
    "This leads to the question: **Is it possible to predict whether a patient who has already experienced heart failure will die based on the most influential components of a patient's health?**\n"
   ]
  },
  {
   "cell_type": "markdown",
   "id": "3c88a429-7a53-4c50-b2e6-d551f49d6aa9",
   "metadata": {},
   "source": [
    "To answer this question, we will examine a dataset made up of 13 attributes among 299 patients. This data was retrieved from the `heart_failure_clinical_records_dataset.csv` file in the Heart Disease dataset directory, which may be accessed at: https://archive.ics.uci.edu/ml/datasets/Heart+failure+clinical+records (Chicco et al., 2020).\n"
   ]
  },
  {
   "cell_type": "markdown",
   "id": "5d9142d0-6ad5-45c6-a965-ded87a002487",
   "metadata": {},
   "source": [
    "|Variable|Unit|Values|\n",
    "|--------|----|---------------|\n",
    "|age: age of the patient|years|positive integers|\n",
    "|anaemia: decrease of red blood cells or hemoglobin|NA|0 = false; 1 = true|\n",
    "|high_blood_pressure: if the patient has hypertension|NA|0 = false; 1 = true|\n",
    "|creatinine_phosphokinase: level of the CPK enzyme in the blood|mcg/L|positive integers|\n",
    "|diabetes: if the patient has diabetes|NA|0 = false; 1 = true|\n",
    "|ejection_fraction: percentage of blood leaving the heart at each contraction|%|positive integers|\n",
    "|platelets: platelets in the blood|kiloplatelets/mL|positive integers|\n",
    "|sex: woman or man|NA|0 = female; 1 = male|\n",
    "|serum_creatinine: level of serum creatinine in the blood|mg/dL|positive numbers|\n",
    "|serum_sodium: level of serum sodium in the blood|mEq/L|positive integers|\n",
    "|smoking: if the patient smokes or not|NA|0 = false; 1 = true|\n",
    "|time: follow-up period (285 days)|days|positive integers|\n",
    "|DEATH_EVENT: if the patient deceased during the follow-up period|NA|0 = false; 1 = true|\n",
    "\n"
   ]
  },
  {
   "cell_type": "markdown",
   "id": "306d343c-ecb3-4680-bd50-fe56e218614e",
   "metadata": {},
   "source": [
    "From this table, we can see that our dataset includes many variables. However, for our model to be accurate, we need to include only those which have a significant effect on mortality. According to a study conducted by Ahmad et al. (2017), the variables `age`, `anaemia`, `high_blood_pressure`, `ejection_fraction`, `serum_creatinine` and `serum_sodium` had the greatest influence on the accuracy of their prediction model and as such we will use these variables too.\n",
    "\n",
    "\n",
    "We can exclude the variable ‘sex’ from our prediction model since research has determined that though men tend to have a higher incidence of heart failure, the prevalence rate is similar among both men and women (Stromberg & Martensson, 2003).\n"
   ]
  },
  {
   "cell_type": "markdown",
   "id": "f517f91b-ac83-4410-a819-744b1cd20d8b",
   "metadata": {},
   "source": [
    "### Methods"
   ]
  },
  {
   "cell_type": "markdown",
   "id": "6e19777e-0aa6-4d8a-ae2f-04fd1e04c89e",
   "metadata": {},
   "source": [
    "Our objective is to predict the death_event class using the optimal predictor variables, which we will select, to build a K-NN Classification model. The measures we will take to do this are as follows:\n",
    "1. Read-in and tidy the dataset: After loading in the dataset, it must be tidied.\n",
    "2. Train/Test split: The dataset is split into training and testing sets and the accuracy is determined through cross-validation.\n",
    "3. Analyze and summarise our training set: Using boxplots, the cross-validation of the training data is visualized to see the variance in the range and median of the different attributes.\n",
    "4. Discover the ideal 𝑘  value and construct our final model.\n",
    "5. Evaluation and Conclusion\n"
   ]
  },
  {
   "cell_type": "markdown",
   "id": "63e919d6-8797-450e-a52f-3fa7dd83a95f",
   "metadata": {},
   "source": [
    "### Expected Outcomes"
   ]
  },
  {
   "cell_type": "markdown",
   "id": "5432f478-9f6e-4035-a518-d06f3a812b91",
   "metadata": {},
   "source": [
    "With our algorithm that accurately forecasts fatality in patients with heart failure, our expected outcome would be to correctly predict whether a patient having heart failure will die based on the most influential components affecting it.\n",
    "\t\n",
    "There is a huge impact of our findings as our results can have real-world implications since we could use this model to predict the likelihood that a person having heart failure will die and administer the appropriate level of treatment and monitoring based on other health variables that may be of concern.\n",
    "\n",
    "Future questions that may be resulted from this is if there are any other variables that are in or outside this datatable that will make the classification more accurate in determining the likelihood of death from a patient who’s been through heart failure.\n"
   ]
  },
  {
   "cell_type": "markdown",
   "id": "0d8887f6-5e28-42cb-8a5a-4fbd2811cffd",
   "metadata": {},
   "source": [
    "### References"
   ]
  },
  {
   "cell_type": "markdown",
   "id": "918ab9f7-0d9d-4284-a179-4f286b716ad7",
   "metadata": {},
   "source": [
    "Stromberg, A., & Martensson, J. (2003). Gender differences in patients with heart failure. SAGE Publications. https://doi.org/10.1016/S1474-5151(03)00002-1\n",
    "\n",
    "National Guideline Centre (UK). Chronic Heart Failure in Adults: Diagnosis and Management. London: National Institute for Health and Care Excellence (NICE); 2018 Sep. (NICE Guideline, No. 106.) 2, Introduction. Available from: https://www.ncbi.nlm.nih.gov/books/NBK536089/ \n"
   ]
  },
  {
   "cell_type": "code",
   "execution_count": null,
   "id": "a0736380-c0cd-4d5b-ab27-9b780eff99b1",
   "metadata": {},
   "outputs": [],
   "source": []
  }
 ],
 "metadata": {
  "kernelspec": {
   "display_name": "R",
   "language": "R",
   "name": "ir"
  },
  "language_info": {
   "codemirror_mode": "r",
   "file_extension": ".r",
   "mimetype": "text/x-r-source",
   "name": "R",
   "pygments_lexer": "r",
   "version": "4.1.3"
  }
 },
 "nbformat": 4,
 "nbformat_minor": 5
}
