{
 "cells": [
  {
   "cell_type": "markdown",
   "id": "c0a91549-2016-410e-a32e-e364e981c2e6",
   "metadata": {},
   "source": [
    "# Analyzing Data to Investigate Risk Factors in Heart Failure Patients to Predict Mortality "
   ]
  },
  {
   "cell_type": "markdown",
   "id": "dbde98d0-bd99-459b-acd2-67b8a9113641",
   "metadata": {},
   "source": [
    "### Introduction"
   ]
  },
  {
   "cell_type": "markdown",
   "id": "26969ba2-1203-4f01-b7de-9368b8a5f337",
   "metadata": {},
   "source": [
    "A prevalent complex clinical combination of symptoms and signs known as heart failure is brought on by a decrease in the heart's function as a pump supporting the circulatory system (National Guideline Centre, 2018). The death risk in the first year after treatment is about 35% while the risk of death is less than 10% in the second year for those that are still alive (National Clinical Guideline Centre, 2010). Data analysis on heart failure is significant because it can provide valuable insights into the causes and  risk factors of heart failure. We will look into different patients’ health reports and their experience of heart failure to help us determine the factors that are most influential in predicting possible death of patients with heart failure. \n"
   ]
  },
  {
   "cell_type": "markdown",
   "id": "4b6cff82-1417-468c-a760-855ab0b4e87b",
   "metadata": {},
   "source": [
    "<img src=\"hiiii.jpeg\" width=\"250\"> <img src=\"hellooooo.jpeg\" width=\"250\">"
   ]
  },
  {
   "cell_type": "markdown",
   "id": "6474e723-b407-4cb1-9782-052ba3a57860",
   "metadata": {},
   "source": [
    "This leads to the question: **Is it possible to predict whether a patient who has already experienced heart failure will die based on the most influential components of a patient's health?**\n"
   ]
  },
  {
   "cell_type": "markdown",
   "id": "3c88a429-7a53-4c50-b2e6-d551f49d6aa9",
   "metadata": {},
   "source": [
    "To answer this question, we will examine a dataset made up of 13 attributes among 299 patients. This data was retrieved from the `heart_failure_clinical_records_dataset.csv` file in the Heart Disease dataset directory, which may be accessed at: https://archive.ics.uci.edu/ml/datasets/Heart+failure+clinical+records (Chicco et al., 2020).\n"
   ]
  },
  {
   "cell_type": "markdown",
   "id": "5d9142d0-6ad5-45c6-a965-ded87a002487",
   "metadata": {},
   "source": [
    "|Variable|Unit|Values|\n",
    "|--------|----|---------------|\n",
    "|age: age of the patient|years|positive integers|\n",
    "|anaemia: decrease of red blood cells or hemoglobin|NA|0 = false; 1 = true|\n",
    "|high_blood_pressure: if the patient has hypertension|NA|0 = false; 1 = true|\n",
    "|creatinine_phosphokinase: level of the CPK enzyme in the blood|mcg/L|positive integers|\n",
    "|diabetes: if the patient has diabetes|NA|0 = false; 1 = true|\n",
    "|ejection_fraction: percentage of blood leaving the heart at each contraction|%|positive integers|\n",
    "|platelets: platelets in the blood|kiloplatelets/mL|positive integers|\n",
    "|sex: woman or man|NA|0 = female; 1 = male|\n",
    "|serum_creatinine: level of serum creatinine in the blood|mg/dL|positive numbers|\n",
    "|serum_sodium: level of serum sodium in the blood|mEq/L|positive integers|\n",
    "|smoking: if the patient smokes or not|NA|0 = false; 1 = true|\n",
    "|time: follow-up period (285 days)|days|positive integers|\n",
    "|DEATH_EVENT: if the patient deceased during the follow-up period|NA|0 = false; 1 = true|\n",
    "\n"
   ]
  },
  {
   "cell_type": "markdown",
   "id": "306d343c-ecb3-4680-bd50-fe56e218614e",
   "metadata": {},
   "source": [
    "From this table, we can see that our dataset includes many variables. However, for our model to be accurate, we need to include only those which have a significant effect on mortality. According to a study conducted by Ahmad et al. (2017), the variables `age`, `anaemia`, `high_blood_pressure`, `ejection_fraction`, `serum_creatinine` and `serum_sodium` had the greatest influence on the accuracy of their prediction model and as such we will use these variables too."
   ]
  },
  {
   "cell_type": "markdown",
   "id": "f517f91b-ac83-4410-a819-744b1cd20d8b",
   "metadata": {},
   "source": [
    "### Methods"
   ]
  },
  {
   "cell_type": "markdown",
   "id": "6e19777e-0aa6-4d8a-ae2f-04fd1e04c89e",
   "metadata": {},
   "source": [
    "Our objective is to predict the death_event class using the optimal predictor variables, which we will select, to build a K-NN Classification model. The measures we will take to do this are as follows:\n",
    "1. Read-in and tidy the dataset: After loading in the dataset, it must be tidied.\n",
    "2. Train/Test split: The dataset is split into training and testing sets and the accuracy is determined through cross-validation.\n",
    "3. Analyze and summarise our training set: Using scatterplot and bar graph, the cross-validation of the training data is visualized to see the variance in the range and median of the different attributes.\n",
    "4. Discover the ideal 𝑘  value and construct our final model.\n",
    "5. Evaluation and Conclusion.\n"
   ]
  },
  {
   "cell_type": "markdown",
   "id": "63e919d6-8797-450e-a52f-3fa7dd83a95f",
   "metadata": {},
   "source": [
    "### Expected Outcomes"
   ]
  },
  {
   "cell_type": "markdown",
   "id": "5432f478-9f6e-4035-a518-d06f3a812b91",
   "metadata": {},
   "source": [
    "With our algorithm that accurately forecasts fatality in patients with heart failure, our expected outcome would be to correctly predict whether a patient having heart failure will die based on the most influential components affecting it.\n",
    "\t\n",
    "There is a huge impact of our findings as our results can have real-world implications since we could use this model to predict the likelihood that a person having heart failure will die and administer the appropriate level of treatment and monitoring based on other health variables that may be of concern.\n",
    "\n",
    "Future questions that may be resulted from this is if there are any other variables that are in or outside this datatable that will make the classification more accurate in determining the likelihood of death from a patient who’s been through heart failure.\n"
   ]
  },
  {
   "cell_type": "markdown",
   "id": "30c67aaa-8cc7-4e32-ac9b-b27a48f0db9a",
   "metadata": {},
   "source": [
    "### Preliminary exploratory data analysis"
   ]
  },
  {
   "cell_type": "markdown",
   "id": "955a7440-809c-4e2e-bdb4-d699d25a9e32",
   "metadata": {},
   "source": [
    "First, load the libraries:"
   ]
  },
  {
   "cell_type": "code",
   "execution_count": 1,
   "id": "726aa404-2029-4b86-b97b-09e1dad1b405",
   "metadata": {},
   "outputs": [
    {
     "name": "stderr",
     "output_type": "stream",
     "text": [
      "Updating HTML index of packages in '.Library'\n",
      "\n",
      "Making 'packages.html' ...\n",
      " done\n",
      "\n",
      "── \u001b[1mAttaching packages\u001b[22m ─────────────────────────────────────── tidyverse 1.3.1 ──\n",
      "\n",
      "\u001b[32m✔\u001b[39m \u001b[34mggplot2\u001b[39m 3.3.6     \u001b[32m✔\u001b[39m \u001b[34mpurrr  \u001b[39m 0.3.4\n",
      "\u001b[32m✔\u001b[39m \u001b[34mtibble \u001b[39m 3.1.7     \u001b[32m✔\u001b[39m \u001b[34mdplyr  \u001b[39m 1.0.9\n",
      "\u001b[32m✔\u001b[39m \u001b[34mtidyr  \u001b[39m 1.2.0     \u001b[32m✔\u001b[39m \u001b[34mstringr\u001b[39m 1.4.0\n",
      "\u001b[32m✔\u001b[39m \u001b[34mreadr  \u001b[39m 2.1.2     \u001b[32m✔\u001b[39m \u001b[34mforcats\u001b[39m 0.5.1\n",
      "\n",
      "── \u001b[1mConflicts\u001b[22m ────────────────────────────────────────── tidyverse_conflicts() ──\n",
      "\u001b[31m✖\u001b[39m \u001b[34mdplyr\u001b[39m::\u001b[32mfilter()\u001b[39m masks \u001b[34mstats\u001b[39m::filter()\n",
      "\u001b[31m✖\u001b[39m \u001b[34mdplyr\u001b[39m::\u001b[32mlag()\u001b[39m    masks \u001b[34mstats\u001b[39m::lag()\n",
      "\n",
      "── \u001b[1mAttaching packages\u001b[22m ────────────────────────────────────── tidymodels 1.0.0 ──\n",
      "\n",
      "\u001b[32m✔\u001b[39m \u001b[34mbroom       \u001b[39m 1.0.0     \u001b[32m✔\u001b[39m \u001b[34mrsample     \u001b[39m 1.0.0\n",
      "\u001b[32m✔\u001b[39m \u001b[34mdials       \u001b[39m 1.0.0     \u001b[32m✔\u001b[39m \u001b[34mtune        \u001b[39m 1.0.0\n",
      "\u001b[32m✔\u001b[39m \u001b[34minfer       \u001b[39m 1.0.2     \u001b[32m✔\u001b[39m \u001b[34mworkflows   \u001b[39m 1.0.0\n",
      "\u001b[32m✔\u001b[39m \u001b[34mmodeldata   \u001b[39m 1.0.0     \u001b[32m✔\u001b[39m \u001b[34mworkflowsets\u001b[39m 1.0.0\n",
      "\u001b[32m✔\u001b[39m \u001b[34mparsnip     \u001b[39m 1.0.0     \u001b[32m✔\u001b[39m \u001b[34myardstick   \u001b[39m 1.0.0\n",
      "\u001b[32m✔\u001b[39m \u001b[34mrecipes     \u001b[39m 1.0.1     \n",
      "\n",
      "── \u001b[1mConflicts\u001b[22m ───────────────────────────────────────── tidymodels_conflicts() ──\n",
      "\u001b[31m✖\u001b[39m \u001b[34mscales\u001b[39m::\u001b[32mdiscard()\u001b[39m masks \u001b[34mpurrr\u001b[39m::discard()\n",
      "\u001b[31m✖\u001b[39m \u001b[34mdplyr\u001b[39m::\u001b[32mfilter()\u001b[39m   masks \u001b[34mstats\u001b[39m::filter()\n",
      "\u001b[31m✖\u001b[39m \u001b[34mrecipes\u001b[39m::\u001b[32mfixed()\u001b[39m  masks \u001b[34mstringr\u001b[39m::fixed()\n",
      "\u001b[31m✖\u001b[39m \u001b[34mdplyr\u001b[39m::\u001b[32mlag()\u001b[39m      masks \u001b[34mstats\u001b[39m::lag()\n",
      "\u001b[31m✖\u001b[39m \u001b[34myardstick\u001b[39m::\u001b[32mspec()\u001b[39m masks \u001b[34mreadr\u001b[39m::spec()\n",
      "\u001b[31m✖\u001b[39m \u001b[34mrecipes\u001b[39m::\u001b[32mstep()\u001b[39m   masks \u001b[34mstats\u001b[39m::step()\n",
      "\u001b[34m•\u001b[39m Use suppressPackageStartupMessages() to eliminate package startup messages\n",
      "\n",
      "Registered S3 method overwritten by 'GGally':\n",
      "  method from   \n",
      "  +.gg   ggplot2\n",
      "\n"
     ]
    }
   ],
   "source": [
    "install.packages(\"themis\")\n",
    "\n",
    "library(repr)\n",
    "library(tidyverse)\n",
    "library(tidymodels)\n",
    "library(cowplot)\n",
    "library(GGally)\n",
    "library(themis)"
   ]
  },
  {
   "cell_type": "markdown",
   "id": "c8a27682-e06b-47e1-bc55-d7ba5a25e85a",
   "metadata": {},
   "source": [
    "**Reading in the dataset from the web** and selecting 8 rows to observe."
   ]
  },
  {
   "cell_type": "code",
   "execution_count": 2,
   "id": "2c216e2e-300d-416f-9752-5bafd97e815a",
   "metadata": {},
   "outputs": [
    {
     "name": "stderr",
     "output_type": "stream",
     "text": [
      "\u001b[1mRows: \u001b[22m\u001b[34m299\u001b[39m \u001b[1mColumns: \u001b[22m\u001b[34m13\u001b[39m\n",
      "\u001b[36m──\u001b[39m \u001b[1mColumn specification\u001b[22m \u001b[36m────────────────────────────────────────────────────────\u001b[39m\n",
      "\u001b[1mDelimiter:\u001b[22m \",\"\n",
      "\u001b[32mdbl\u001b[39m (13): age, anaemia, creatinine_phosphokinase, diabetes, ejection_fractio...\n",
      "\n",
      "\u001b[36mℹ\u001b[39m Use `spec()` to retrieve the full column specification for this data.\n",
      "\u001b[36mℹ\u001b[39m Specify the column types or set `show_col_types = FALSE` to quiet this message.\n"
     ]
    },
    {
     "data": {
      "text/html": [
       "<table class=\"dataframe\">\n",
       "<caption>A spec_tbl_df: 8 × 13</caption>\n",
       "<thead>\n",
       "\t<tr><th scope=col>age</th><th scope=col>anaemia</th><th scope=col>creatinine_phosphokinase</th><th scope=col>diabetes</th><th scope=col>ejection_fraction</th><th scope=col>high_blood_pressure</th><th scope=col>platelets</th><th scope=col>serum_creatinine</th><th scope=col>serum_sodium</th><th scope=col>sex</th><th scope=col>smoking</th><th scope=col>time</th><th scope=col>DEATH_EVENT</th></tr>\n",
       "\t<tr><th scope=col>&lt;dbl&gt;</th><th scope=col>&lt;dbl&gt;</th><th scope=col>&lt;dbl&gt;</th><th scope=col>&lt;dbl&gt;</th><th scope=col>&lt;dbl&gt;</th><th scope=col>&lt;dbl&gt;</th><th scope=col>&lt;dbl&gt;</th><th scope=col>&lt;dbl&gt;</th><th scope=col>&lt;dbl&gt;</th><th scope=col>&lt;dbl&gt;</th><th scope=col>&lt;dbl&gt;</th><th scope=col>&lt;dbl&gt;</th><th scope=col>&lt;dbl&gt;</th></tr>\n",
       "</thead>\n",
       "<tbody>\n",
       "\t<tr><td>45</td><td>0</td><td> 582</td><td>0</td><td>14</td><td>0</td><td>166000</td><td>0.8</td><td>127</td><td>1</td><td>0</td><td> 14</td><td>1</td></tr>\n",
       "\t<tr><td>49</td><td>1</td><td>  80</td><td>0</td><td>30</td><td>1</td><td>427000</td><td>1.0</td><td>138</td><td>0</td><td>0</td><td> 12</td><td>0</td></tr>\n",
       "\t<tr><td>53</td><td>0</td><td>  63</td><td>1</td><td>60</td><td>0</td><td>368000</td><td>0.8</td><td>135</td><td>1</td><td>0</td><td> 22</td><td>0</td></tr>\n",
       "\t<tr><td>50</td><td>1</td><td>1051</td><td>1</td><td>30</td><td>0</td><td>232000</td><td>0.7</td><td>136</td><td>0</td><td>0</td><td>246</td><td>0</td></tr>\n",
       "\t<tr><td>50</td><td>1</td><td> 121</td><td>1</td><td>40</td><td>0</td><td>260000</td><td>0.7</td><td>130</td><td>1</td><td>0</td><td>175</td><td>0</td></tr>\n",
       "\t<tr><td>60</td><td>0</td><td>2261</td><td>0</td><td>35</td><td>1</td><td>228000</td><td>0.9</td><td>136</td><td>1</td><td>0</td><td>115</td><td>0</td></tr>\n",
       "\t<tr><td>43</td><td>1</td><td> 358</td><td>0</td><td>50</td><td>0</td><td>237000</td><td>1.3</td><td>135</td><td>0</td><td>0</td><td> 97</td><td>0</td></tr>\n",
       "\t<tr><td>65</td><td>0</td><td>  56</td><td>0</td><td>25</td><td>0</td><td>237000</td><td>5.0</td><td>130</td><td>0</td><td>0</td><td>207</td><td>0</td></tr>\n",
       "</tbody>\n",
       "</table>\n"
      ],
      "text/latex": [
       "A spec\\_tbl\\_df: 8 × 13\n",
       "\\begin{tabular}{lllllllllllll}\n",
       " age & anaemia & creatinine\\_phosphokinase & diabetes & ejection\\_fraction & high\\_blood\\_pressure & platelets & serum\\_creatinine & serum\\_sodium & sex & smoking & time & DEATH\\_EVENT\\\\\n",
       " <dbl> & <dbl> & <dbl> & <dbl> & <dbl> & <dbl> & <dbl> & <dbl> & <dbl> & <dbl> & <dbl> & <dbl> & <dbl>\\\\\n",
       "\\hline\n",
       "\t 45 & 0 &  582 & 0 & 14 & 0 & 166000 & 0.8 & 127 & 1 & 0 &  14 & 1\\\\\n",
       "\t 49 & 1 &   80 & 0 & 30 & 1 & 427000 & 1.0 & 138 & 0 & 0 &  12 & 0\\\\\n",
       "\t 53 & 0 &   63 & 1 & 60 & 0 & 368000 & 0.8 & 135 & 1 & 0 &  22 & 0\\\\\n",
       "\t 50 & 1 & 1051 & 1 & 30 & 0 & 232000 & 0.7 & 136 & 0 & 0 & 246 & 0\\\\\n",
       "\t 50 & 1 &  121 & 1 & 40 & 0 & 260000 & 0.7 & 130 & 1 & 0 & 175 & 0\\\\\n",
       "\t 60 & 0 & 2261 & 0 & 35 & 1 & 228000 & 0.9 & 136 & 1 & 0 & 115 & 0\\\\\n",
       "\t 43 & 1 &  358 & 0 & 50 & 0 & 237000 & 1.3 & 135 & 0 & 0 &  97 & 0\\\\\n",
       "\t 65 & 0 &   56 & 0 & 25 & 0 & 237000 & 5.0 & 130 & 0 & 0 & 207 & 0\\\\\n",
       "\\end{tabular}\n"
      ],
      "text/markdown": [
       "\n",
       "A spec_tbl_df: 8 × 13\n",
       "\n",
       "| age &lt;dbl&gt; | anaemia &lt;dbl&gt; | creatinine_phosphokinase &lt;dbl&gt; | diabetes &lt;dbl&gt; | ejection_fraction &lt;dbl&gt; | high_blood_pressure &lt;dbl&gt; | platelets &lt;dbl&gt; | serum_creatinine &lt;dbl&gt; | serum_sodium &lt;dbl&gt; | sex &lt;dbl&gt; | smoking &lt;dbl&gt; | time &lt;dbl&gt; | DEATH_EVENT &lt;dbl&gt; |\n",
       "|---|---|---|---|---|---|---|---|---|---|---|---|---|\n",
       "| 45 | 0 |  582 | 0 | 14 | 0 | 166000 | 0.8 | 127 | 1 | 0 |  14 | 1 |\n",
       "| 49 | 1 |   80 | 0 | 30 | 1 | 427000 | 1.0 | 138 | 0 | 0 |  12 | 0 |\n",
       "| 53 | 0 |   63 | 1 | 60 | 0 | 368000 | 0.8 | 135 | 1 | 0 |  22 | 0 |\n",
       "| 50 | 1 | 1051 | 1 | 30 | 0 | 232000 | 0.7 | 136 | 0 | 0 | 246 | 0 |\n",
       "| 50 | 1 |  121 | 1 | 40 | 0 | 260000 | 0.7 | 130 | 1 | 0 | 175 | 0 |\n",
       "| 60 | 0 | 2261 | 0 | 35 | 1 | 228000 | 0.9 | 136 | 1 | 0 | 115 | 0 |\n",
       "| 43 | 1 |  358 | 0 | 50 | 0 | 237000 | 1.3 | 135 | 0 | 0 |  97 | 0 |\n",
       "| 65 | 0 |   56 | 0 | 25 | 0 | 237000 | 5.0 | 130 | 0 | 0 | 207 | 0 |\n",
       "\n"
      ],
      "text/plain": [
       "  age anaemia creatinine_phosphokinase diabetes ejection_fraction\n",
       "1 45  0        582                     0        14               \n",
       "2 49  1         80                     0        30               \n",
       "3 53  0         63                     1        60               \n",
       "4 50  1       1051                     1        30               \n",
       "5 50  1        121                     1        40               \n",
       "6 60  0       2261                     0        35               \n",
       "7 43  1        358                     0        50               \n",
       "8 65  0         56                     0        25               \n",
       "  high_blood_pressure platelets serum_creatinine serum_sodium sex smoking time\n",
       "1 0                   166000    0.8              127          1   0        14 \n",
       "2 1                   427000    1.0              138          0   0        12 \n",
       "3 0                   368000    0.8              135          1   0        22 \n",
       "4 0                   232000    0.7              136          0   0       246 \n",
       "5 0                   260000    0.7              130          1   0       175 \n",
       "6 1                   228000    0.9              136          1   0       115 \n",
       "7 0                   237000    1.3              135          0   0        97 \n",
       "8 0                   237000    5.0              130          0   0       207 \n",
       "  DEATH_EVENT\n",
       "1 1          \n",
       "2 0          \n",
       "3 0          \n",
       "4 0          \n",
       "5 0          \n",
       "6 0          \n",
       "7 0          \n",
       "8 0          "
      ]
     },
     "metadata": {},
     "output_type": "display_data"
    }
   ],
   "source": [
    "heart_data <- read_csv(\"https://archive.ics.uci.edu/ml/machine-learning-databases/00519/heart_failure_clinical_records_dataset.csv\")\n",
    "slice_sample(heart_data, n = 8)"
   ]
  },
  {
   "cell_type": "markdown",
   "id": "d71202a6-065a-4e03-903b-4d001c7e993b",
   "metadata": {},
   "source": [
    "Looking at the `DEATH_EVENT` column, if the variable is 0, it means that the patient is alive. If the variable is 1, it means that the the patient died."
   ]
  },
  {
   "cell_type": "code",
   "execution_count": 3,
   "id": "e5224a0c-3052-4028-890e-405ad345b6b2",
   "metadata": {},
   "outputs": [
    {
     "data": {
      "text/html": [
       "<table class=\"dataframe\">\n",
       "<caption>A tibble: 8 × 8</caption>\n",
       "<thead>\n",
       "\t<tr><th scope=col>age</th><th scope=col>creatinine_phosphokinase</th><th scope=col>ejection_fraction</th><th scope=col>platelets</th><th scope=col>serum_creatinine</th><th scope=col>serum_sodium</th><th scope=col>time</th><th scope=col>DEATH_EVENT</th></tr>\n",
       "\t<tr><th scope=col>&lt;dbl&gt;</th><th scope=col>&lt;dbl&gt;</th><th scope=col>&lt;dbl&gt;</th><th scope=col>&lt;dbl&gt;</th><th scope=col>&lt;dbl&gt;</th><th scope=col>&lt;dbl&gt;</th><th scope=col>&lt;dbl&gt;</th><th scope=col>&lt;dbl&gt;</th></tr>\n",
       "</thead>\n",
       "<tbody>\n",
       "\t<tr><td>53</td><td>707</td><td>38</td><td>330000</td><td>1.40</td><td>137</td><td>209</td><td>0</td></tr>\n",
       "\t<tr><td>72</td><td>211</td><td>25</td><td>274000</td><td>1.20</td><td>134</td><td>207</td><td>0</td></tr>\n",
       "\t<tr><td>70</td><td>835</td><td>35</td><td>305000</td><td>0.80</td><td>133</td><td>145</td><td>0</td></tr>\n",
       "\t<tr><td>75</td><td>582</td><td>30</td><td>225000</td><td>1.83</td><td>134</td><td>113</td><td>1</td></tr>\n",
       "\t<tr><td>75</td><td>246</td><td>15</td><td>127000</td><td>1.20</td><td>137</td><td> 10</td><td>1</td></tr>\n",
       "\t<tr><td>60</td><td> 53</td><td>50</td><td>286000</td><td>2.30</td><td>143</td><td> 87</td><td>0</td></tr>\n",
       "\t<tr><td>82</td><td>379</td><td>50</td><td> 47000</td><td>1.30</td><td>136</td><td> 13</td><td>1</td></tr>\n",
       "\t<tr><td>63</td><td> 61</td><td>40</td><td>221000</td><td>1.10</td><td>140</td><td> 86</td><td>0</td></tr>\n",
       "</tbody>\n",
       "</table>\n"
      ],
      "text/latex": [
       "A tibble: 8 × 8\n",
       "\\begin{tabular}{llllllll}\n",
       " age & creatinine\\_phosphokinase & ejection\\_fraction & platelets & serum\\_creatinine & serum\\_sodium & time & DEATH\\_EVENT\\\\\n",
       " <dbl> & <dbl> & <dbl> & <dbl> & <dbl> & <dbl> & <dbl> & <dbl>\\\\\n",
       "\\hline\n",
       "\t 53 & 707 & 38 & 330000 & 1.40 & 137 & 209 & 0\\\\\n",
       "\t 72 & 211 & 25 & 274000 & 1.20 & 134 & 207 & 0\\\\\n",
       "\t 70 & 835 & 35 & 305000 & 0.80 & 133 & 145 & 0\\\\\n",
       "\t 75 & 582 & 30 & 225000 & 1.83 & 134 & 113 & 1\\\\\n",
       "\t 75 & 246 & 15 & 127000 & 1.20 & 137 &  10 & 1\\\\\n",
       "\t 60 &  53 & 50 & 286000 & 2.30 & 143 &  87 & 0\\\\\n",
       "\t 82 & 379 & 50 &  47000 & 1.30 & 136 &  13 & 1\\\\\n",
       "\t 63 &  61 & 40 & 221000 & 1.10 & 140 &  86 & 0\\\\\n",
       "\\end{tabular}\n"
      ],
      "text/markdown": [
       "\n",
       "A tibble: 8 × 8\n",
       "\n",
       "| age &lt;dbl&gt; | creatinine_phosphokinase &lt;dbl&gt; | ejection_fraction &lt;dbl&gt; | platelets &lt;dbl&gt; | serum_creatinine &lt;dbl&gt; | serum_sodium &lt;dbl&gt; | time &lt;dbl&gt; | DEATH_EVENT &lt;dbl&gt; |\n",
       "|---|---|---|---|---|---|---|---|\n",
       "| 53 | 707 | 38 | 330000 | 1.40 | 137 | 209 | 0 |\n",
       "| 72 | 211 | 25 | 274000 | 1.20 | 134 | 207 | 0 |\n",
       "| 70 | 835 | 35 | 305000 | 0.80 | 133 | 145 | 0 |\n",
       "| 75 | 582 | 30 | 225000 | 1.83 | 134 | 113 | 1 |\n",
       "| 75 | 246 | 15 | 127000 | 1.20 | 137 |  10 | 1 |\n",
       "| 60 |  53 | 50 | 286000 | 2.30 | 143 |  87 | 0 |\n",
       "| 82 | 379 | 50 |  47000 | 1.30 | 136 |  13 | 1 |\n",
       "| 63 |  61 | 40 | 221000 | 1.10 | 140 |  86 | 0 |\n",
       "\n"
      ],
      "text/plain": [
       "  age creatinine_phosphokinase ejection_fraction platelets serum_creatinine\n",
       "1 53  707                      38                330000    1.40            \n",
       "2 72  211                      25                274000    1.20            \n",
       "3 70  835                      35                305000    0.80            \n",
       "4 75  582                      30                225000    1.83            \n",
       "5 75  246                      15                127000    1.20            \n",
       "6 60   53                      50                286000    2.30            \n",
       "7 82  379                      50                 47000    1.30            \n",
       "8 63   61                      40                221000    1.10            \n",
       "  serum_sodium time DEATH_EVENT\n",
       "1 137          209  0          \n",
       "2 134          207  0          \n",
       "3 133          145  0          \n",
       "4 134          113  1          \n",
       "5 137           10  1          \n",
       "6 143           87  0          \n",
       "7 136           13  1          \n",
       "8 140           86  0          "
      ]
     },
     "metadata": {},
     "output_type": "display_data"
    }
   ],
   "source": [
    "heart_data <- select(heart_data, -anaemia, -diabetes, -high_blood_pressure, -sex, -smoking)\n",
    "slice_sample(heart_data, n = 8)"
   ]
  },
  {
   "cell_type": "markdown",
   "id": "33c58452-6c5c-483e-a5e0-a69e7bbc45fb",
   "metadata": {},
   "source": [
    "We will then check if any rows contain NA's and remove them."
   ]
  },
  {
   "cell_type": "code",
   "execution_count": 4,
   "id": "64bd8471-2495-4e82-843d-31e4d86c277f",
   "metadata": {},
   "outputs": [
    {
     "data": {
      "text/html": [
       "<table class=\"dataframe\">\n",
       "<caption>A tibble: 0 × 8</caption>\n",
       "<thead>\n",
       "\t<tr><th scope=col>age</th><th scope=col>creatinine_phosphokinase</th><th scope=col>ejection_fraction</th><th scope=col>platelets</th><th scope=col>serum_creatinine</th><th scope=col>serum_sodium</th><th scope=col>time</th><th scope=col>DEATH_EVENT</th></tr>\n",
       "\t<tr><th scope=col>&lt;dbl&gt;</th><th scope=col>&lt;dbl&gt;</th><th scope=col>&lt;dbl&gt;</th><th scope=col>&lt;dbl&gt;</th><th scope=col>&lt;dbl&gt;</th><th scope=col>&lt;dbl&gt;</th><th scope=col>&lt;dbl&gt;</th><th scope=col>&lt;dbl&gt;</th></tr>\n",
       "</thead>\n",
       "<tbody>\n",
       "</tbody>\n",
       "</table>\n"
      ],
      "text/latex": [
       "A tibble: 0 × 8\n",
       "\\begin{tabular}{llllllll}\n",
       " age & creatinine\\_phosphokinase & ejection\\_fraction & platelets & serum\\_creatinine & serum\\_sodium & time & DEATH\\_EVENT\\\\\n",
       " <dbl> & <dbl> & <dbl> & <dbl> & <dbl> & <dbl> & <dbl> & <dbl>\\\\\n",
       "\\hline\n",
       "\\end{tabular}\n"
      ],
      "text/markdown": [
       "\n",
       "A tibble: 0 × 8\n",
       "\n",
       "| age &lt;dbl&gt; | creatinine_phosphokinase &lt;dbl&gt; | ejection_fraction &lt;dbl&gt; | platelets &lt;dbl&gt; | serum_creatinine &lt;dbl&gt; | serum_sodium &lt;dbl&gt; | time &lt;dbl&gt; | DEATH_EVENT &lt;dbl&gt; |\n",
       "|---|---|---|---|---|---|---|---|\n",
       "\n"
      ],
      "text/plain": [
       "     age creatinine_phosphokinase ejection_fraction platelets serum_creatinine\n",
       "     serum_sodium time DEATH_EVENT"
      ]
     },
     "metadata": {},
     "output_type": "display_data"
    }
   ],
   "source": [
    "heart_data[rowSums(is.na(heart_data)) > 0, ]"
   ]
  },
  {
   "cell_type": "markdown",
   "id": "13499545-ed40-4cdc-a08f-71eddc7e3ff5",
   "metadata": {},
   "source": [
    "There aren't any rows containing any missing values. Therefore we do not have to remove any cases from the dataframe."
   ]
  },
  {
   "cell_type": "markdown",
   "id": "f827ed79-8ed2-4c4a-98c6-88d02231b4d5",
   "metadata": {},
   "source": [
    "We then used `mutate` to convert all predictors into numeric data; convert target variable to a factor using `as_factor`."
   ]
  },
  {
   "cell_type": "code",
   "execution_count": 5,
   "id": "8d30e4f6-8b57-4b79-a358-dfc714b6720a",
   "metadata": {},
   "outputs": [
    {
     "data": {
      "text/html": [
       "<table class=\"dataframe\">\n",
       "<caption>A tibble: 1 × 8</caption>\n",
       "<thead>\n",
       "\t<tr><th scope=col>age</th><th scope=col>creatinine_phosphokinase</th><th scope=col>ejection_fraction</th><th scope=col>platelets</th><th scope=col>serum_creatinine</th><th scope=col>serum_sodium</th><th scope=col>time</th><th scope=col>DEATH_EVENT</th></tr>\n",
       "\t<tr><th scope=col>&lt;dbl&gt;</th><th scope=col>&lt;dbl&gt;</th><th scope=col>&lt;dbl&gt;</th><th scope=col>&lt;dbl&gt;</th><th scope=col>&lt;dbl&gt;</th><th scope=col>&lt;dbl&gt;</th><th scope=col>&lt;dbl&gt;</th><th scope=col>&lt;fct&gt;</th></tr>\n",
       "</thead>\n",
       "<tbody>\n",
       "\t<tr><td>75</td><td>582</td><td>20</td><td>265000</td><td>1.9</td><td>130</td><td>4</td><td>1</td></tr>\n",
       "</tbody>\n",
       "</table>\n"
      ],
      "text/latex": [
       "A tibble: 1 × 8\n",
       "\\begin{tabular}{llllllll}\n",
       " age & creatinine\\_phosphokinase & ejection\\_fraction & platelets & serum\\_creatinine & serum\\_sodium & time & DEATH\\_EVENT\\\\\n",
       " <dbl> & <dbl> & <dbl> & <dbl> & <dbl> & <dbl> & <dbl> & <fct>\\\\\n",
       "\\hline\n",
       "\t 75 & 582 & 20 & 265000 & 1.9 & 130 & 4 & 1\\\\\n",
       "\\end{tabular}\n"
      ],
      "text/markdown": [
       "\n",
       "A tibble: 1 × 8\n",
       "\n",
       "| age &lt;dbl&gt; | creatinine_phosphokinase &lt;dbl&gt; | ejection_fraction &lt;dbl&gt; | platelets &lt;dbl&gt; | serum_creatinine &lt;dbl&gt; | serum_sodium &lt;dbl&gt; | time &lt;dbl&gt; | DEATH_EVENT &lt;fct&gt; |\n",
       "|---|---|---|---|---|---|---|---|\n",
       "| 75 | 582 | 20 | 265000 | 1.9 | 130 | 4 | 1 |\n",
       "\n"
      ],
      "text/plain": [
       "  age creatinine_phosphokinase ejection_fraction platelets serum_creatinine\n",
       "1 75  582                      20                265000    1.9             \n",
       "  serum_sodium time DEATH_EVENT\n",
       "1 130          4    1          "
      ]
     },
     "metadata": {},
     "output_type": "display_data"
    }
   ],
   "source": [
    "heart_data <- heart_data |>\n",
    "  mutate(DEATH_EVENT = as_factor(DEATH_EVENT))\n",
    "\n",
    "slice(heart_data, 1)"
   ]
  },
  {
   "cell_type": "markdown",
   "id": "ea45530c-fdc1-4f00-b43f-990222543e64",
   "metadata": {},
   "source": [
    "**After tidying our data to a format that is suitable for analysis, we continue to next step by focusing specifically on the training data.**\n",
    "<br>We choose to split 75% of our original data set into the training set."
   ]
  },
  {
   "cell_type": "code",
   "execution_count": 6,
   "id": "89c8df54-bd1c-47f1-8e8f-5761b131f93b",
   "metadata": {},
   "outputs": [],
   "source": [
    "heart_split <- initial_split(heart_data, prop = 0.75, strata = DEATH_EVENT)  \n",
    "heart_train <- training(heart_split)   \n",
    "heart_test <- testing(heart_split)"
   ]
  },
  {
   "cell_type": "markdown",
   "id": "3468864c-b7f8-4b72-9f97-7dcc4609226f",
   "metadata": {},
   "source": [
    "Since all of the predictor variables contains quantitative data, we used `group_by` to separate each class label, and find the mean of each predictor variable under each class label using `summarize` + `across`."
   ]
  },
  {
   "cell_type": "code",
   "execution_count": 7,
   "id": "d4848cd1-ae07-467b-a4e2-16da614019d3",
   "metadata": {},
   "outputs": [
    {
     "data": {
      "text/html": [
       "<table class=\"dataframe\">\n",
       "<caption>A tibble: 2 × 7</caption>\n",
       "<thead>\n",
       "\t<tr><th scope=col>DEATH_EVENT</th><th scope=col>age</th><th scope=col>creatinine_phosphokinase</th><th scope=col>ejection_fraction</th><th scope=col>platelets</th><th scope=col>serum_creatinine</th><th scope=col>serum_sodium</th></tr>\n",
       "\t<tr><th scope=col>&lt;fct&gt;</th><th scope=col>&lt;dbl&gt;</th><th scope=col>&lt;dbl&gt;</th><th scope=col>&lt;dbl&gt;</th><th scope=col>&lt;dbl&gt;</th><th scope=col>&lt;dbl&gt;</th><th scope=col>&lt;dbl&gt;</th></tr>\n",
       "</thead>\n",
       "<tbody>\n",
       "\t<tr><td>0</td><td>58.76191</td><td>540.0542</td><td>40.26601</td><td>266657.5</td><td>1.184877</td><td>137.2167</td></tr>\n",
       "\t<tr><td>1</td><td>65.21528</td><td>670.1979</td><td>33.46875</td><td>256381.0</td><td>1.835833</td><td>135.3750</td></tr>\n",
       "</tbody>\n",
       "</table>\n"
      ],
      "text/latex": [
       "A tibble: 2 × 7\n",
       "\\begin{tabular}{lllllll}\n",
       " DEATH\\_EVENT & age & creatinine\\_phosphokinase & ejection\\_fraction & platelets & serum\\_creatinine & serum\\_sodium\\\\\n",
       " <fct> & <dbl> & <dbl> & <dbl> & <dbl> & <dbl> & <dbl>\\\\\n",
       "\\hline\n",
       "\t 0 & 58.76191 & 540.0542 & 40.26601 & 266657.5 & 1.184877 & 137.2167\\\\\n",
       "\t 1 & 65.21528 & 670.1979 & 33.46875 & 256381.0 & 1.835833 & 135.3750\\\\\n",
       "\\end{tabular}\n"
      ],
      "text/markdown": [
       "\n",
       "A tibble: 2 × 7\n",
       "\n",
       "| DEATH_EVENT &lt;fct&gt; | age &lt;dbl&gt; | creatinine_phosphokinase &lt;dbl&gt; | ejection_fraction &lt;dbl&gt; | platelets &lt;dbl&gt; | serum_creatinine &lt;dbl&gt; | serum_sodium &lt;dbl&gt; |\n",
       "|---|---|---|---|---|---|---|\n",
       "| 0 | 58.76191 | 540.0542 | 40.26601 | 266657.5 | 1.184877 | 137.2167 |\n",
       "| 1 | 65.21528 | 670.1979 | 33.46875 | 256381.0 | 1.835833 | 135.3750 |\n",
       "\n"
      ],
      "text/plain": [
       "  DEATH_EVENT age      creatinine_phosphokinase ejection_fraction platelets\n",
       "1 0           58.76191 540.0542                 40.26601          266657.5 \n",
       "2 1           65.21528 670.1979                 33.46875          256381.0 \n",
       "  serum_creatinine serum_sodium\n",
       "1 1.184877         137.2167    \n",
       "2 1.835833         135.3750    "
      ]
     },
     "metadata": {},
     "output_type": "display_data"
    }
   ],
   "source": [
    "observations <- heart_data |>\n",
    "    group_by(DEATH_EVENT) |>\n",
    "    summarize(across(age:serum_sodium, mean))\n",
    "\n",
    "observations"
   ]
  },
  {
   "cell_type": "markdown",
   "id": "7eb4a57f-f943-4a46-99d7-fd961dc41204",
   "metadata": {},
   "source": [
    "**We can also find the mean of all predictor variables.**"
   ]
  },
  {
   "cell_type": "code",
   "execution_count": 8,
   "id": "5660f76e-73ae-4fd7-bf0a-b85fcbae849e",
   "metadata": {},
   "outputs": [
    {
     "data": {
      "text/html": [
       "<table class=\"dataframe\">\n",
       "<caption>A tibble: 1 × 6</caption>\n",
       "<thead>\n",
       "\t<tr><th scope=col>age</th><th scope=col>creatinine_phosphokinase</th><th scope=col>ejection_fraction</th><th scope=col>platelets</th><th scope=col>serum_creatinine</th><th scope=col>serum_sodium</th></tr>\n",
       "\t<tr><th scope=col>&lt;dbl&gt;</th><th scope=col>&lt;dbl&gt;</th><th scope=col>&lt;dbl&gt;</th><th scope=col>&lt;dbl&gt;</th><th scope=col>&lt;dbl&gt;</th><th scope=col>&lt;dbl&gt;</th></tr>\n",
       "</thead>\n",
       "<tbody>\n",
       "\t<tr><td>60.78274</td><td>550.1741</td><td>38.18304</td><td>265375.8</td><td>1.358393</td><td>136.7009</td></tr>\n",
       "</tbody>\n",
       "</table>\n"
      ],
      "text/latex": [
       "A tibble: 1 × 6\n",
       "\\begin{tabular}{llllll}\n",
       " age & creatinine\\_phosphokinase & ejection\\_fraction & platelets & serum\\_creatinine & serum\\_sodium\\\\\n",
       " <dbl> & <dbl> & <dbl> & <dbl> & <dbl> & <dbl>\\\\\n",
       "\\hline\n",
       "\t 60.78274 & 550.1741 & 38.18304 & 265375.8 & 1.358393 & 136.7009\\\\\n",
       "\\end{tabular}\n"
      ],
      "text/markdown": [
       "\n",
       "A tibble: 1 × 6\n",
       "\n",
       "| age &lt;dbl&gt; | creatinine_phosphokinase &lt;dbl&gt; | ejection_fraction &lt;dbl&gt; | platelets &lt;dbl&gt; | serum_creatinine &lt;dbl&gt; | serum_sodium &lt;dbl&gt; |\n",
       "|---|---|---|---|---|---|\n",
       "| 60.78274 | 550.1741 | 38.18304 | 265375.8 | 1.358393 | 136.7009 |\n",
       "\n"
      ],
      "text/plain": [
       "  age      creatinine_phosphokinase ejection_fraction platelets\n",
       "1 60.78274 550.1741                 38.18304          265375.8 \n",
       "  serum_creatinine serum_sodium\n",
       "1 1.358393         136.7009    "
      ]
     },
     "metadata": {},
     "output_type": "display_data"
    }
   ],
   "source": [
    "observations_2 <- heart_train |> \n",
    "summarize(across(age:serum_sodium, mean))\n",
    "\n",
    "observations_2"
   ]
  },
  {
   "cell_type": "markdown",
   "id": "5a26dbc3-1ea1-4649-94f8-33d940841b2a",
   "metadata": {},
   "source": [
    "**Next, we use `group_by` + `summarize` to find out the distribution of each of our target variable (DEATH_EVENT).**"
   ]
  },
  {
   "cell_type": "code",
   "execution_count": 9,
   "id": "585c35cd-dfb7-48f7-a036-697fee841fcd",
   "metadata": {},
   "outputs": [
    {
     "data": {
      "text/html": [
       "<table class=\"dataframe\">\n",
       "<caption>A tibble: 2 × 2</caption>\n",
       "<thead>\n",
       "\t<tr><th scope=col>DEATH_EVENT</th><th scope=col>count</th></tr>\n",
       "\t<tr><th scope=col>&lt;fct&gt;</th><th scope=col>&lt;int&gt;</th></tr>\n",
       "</thead>\n",
       "<tbody>\n",
       "\t<tr><td>0</td><td>152</td></tr>\n",
       "\t<tr><td>1</td><td> 72</td></tr>\n",
       "</tbody>\n",
       "</table>\n"
      ],
      "text/latex": [
       "A tibble: 2 × 2\n",
       "\\begin{tabular}{ll}\n",
       " DEATH\\_EVENT & count\\\\\n",
       " <fct> & <int>\\\\\n",
       "\\hline\n",
       "\t 0 & 152\\\\\n",
       "\t 1 &  72\\\\\n",
       "\\end{tabular}\n"
      ],
      "text/markdown": [
       "\n",
       "A tibble: 2 × 2\n",
       "\n",
       "| DEATH_EVENT &lt;fct&gt; | count &lt;int&gt; |\n",
       "|---|---|\n",
       "| 0 | 152 |\n",
       "| 1 |  72 |\n",
       "\n"
      ],
      "text/plain": [
       "  DEATH_EVENT count\n",
       "1 0           152  \n",
       "2 1            72  "
      ]
     },
     "metadata": {},
     "output_type": "display_data"
    }
   ],
   "source": [
    "observations_count <- heart_train |>\n",
    "    group_by(DEATH_EVENT) |>\n",
    "    summarize(count=n())\n",
    "observations_count"
   ]
  },
  {
   "cell_type": "markdown",
   "id": "c6b469e4-3acf-4b9c-894c-d46b353f78b1",
   "metadata": {},
   "source": [
    "**We can use a bar graph to plot the distribution.**"
   ]
  },
  {
   "cell_type": "code",
   "execution_count": 10,
   "id": "bd3d8178-2078-4727-b5f6-b75ddf9af64e",
   "metadata": {},
   "outputs": [
    {
     "data": {
      "image/png": "[encoded data removed]",
      "text/plain": [
       "plot without title"
      ]
     },
     "metadata": {
      "image/png": {
       "height": 330,
       "width": 360
      }
     },
     "output_type": "display_data"
    }
   ],
   "source": [
    "options(repr.plot.width = 6, repr.plot.height = 5.5)\n",
    "\n",
    "heart_plot <- ggplot(observations_count, aes(x = DEATH_EVENT, y = count, fill = DEATH_EVENT)) +\n",
    "  geom_bar(stat = \"identity\") +\n",
    "  labs(x = \"Death_Event (0 or 1)\", y = \"Number of Observations\") +\n",
    "  ggtitle(\"Death Distribution\") +\n",
    "  theme(text = element_text(size = 20))\n",
    "\n",
    "heart_plot"
   ]
  },
  {
   "cell_type": "markdown",
   "id": "a35f17bf-b2f7-48ca-85f2-dc34ead09bac",
   "metadata": {},
   "source": [
    "One problem that could arise when making a prediction model on our data set is class imbalance, where some classes have fewer instances than others. To address this in our final project, we plan to incorporate an oversampling step using the `step_upsample` function from the `themis` R package. This will solve the problem of the underrepresented class not having enough data in the K-nearest neighbor algorithm."
   ]
  },
  {
   "cell_type": "code",
   "execution_count": 11,
   "id": "85056350-1afc-435e-9ff7-4cf60f72e6e2",
   "metadata": {},
   "outputs": [],
   "source": [
    "age_graph <- ggplot(heart_train, aes(x = age, y = DEATH_EVENT, fill = DEATH_EVENT)) +\n",
    "    geom_boxplot(alpha = 0.4) +\n",
    "    xlab(\"Age\") +\n",
    "    ylab(\"Death Event\") +\n",
    "    theme(text = element_text(size = 14))\n",
    "creatinine_phosphokinase_graph <- ggplot(heart_train, aes(x = creatinine_phosphokinase, y = DEATH_EVENT, fill = DEATH_EVENT)) +\n",
    "    geom_boxplot(alpha = 0.4) +\n",
    "    xlab(\"Creatinine Phosphokinase\") +\n",
    "    ylab(\"Death Event\") +\n",
    "    theme(text = element_text(size = 14))\n",
    "ejection_fraction_graph <- ggplot(heart_train, aes(x = ejection_fraction, y = DEATH_EVENT, fill = DEATH_EVENT)) +\n",
    "    geom_boxplot(alpha = 0.4) +\n",
    "    xlab(\"Ejection Fraction\") +\n",
    "    ylab(\"Death Event\") +\n",
    "    theme(text = element_text(size = 14))\n",
    "serum_creatinine_graph <- ggplot(heart_train, aes(x = serum_creatinine, y = DEATH_EVENT, fill = DEATH_EVENT)) +\n",
    "    geom_boxplot(alpha = 0.4) +\n",
    "    xlab(\"Serum Creatinine\") +\n",
    "    ylab(\"Death Event\") +\n",
    "    theme(text = element_text(size = 14))\n",
    "platelets_graph <- ggplot(heart_train, aes(x = platelets, y = DEATH_EVENT, fill = DEATH_EVENT)) +\n",
    "    geom_boxplot(alpha = 0.4) +\n",
    "    xlab(\"Platelets\") +\n",
    "    ylab(\"Death Event\") +\n",
    "    theme(text = element_text(size = 14))\n",
    "serum_sodium_graph <- ggplot(heart_train, aes(x = serum_sodium, y = DEATH_EVENT, fill = DEATH_EVENT)) +\n",
    "    geom_boxplot(alpha = 0.4) +\n",
    "    xlab(\"Serum Sodium\") +\n",
    "    ylab(\"Death Event\") +\n",
    "    theme(text = element_text(size = 14))\n",
    "time_graph <- ggplot(heart_train, aes(x = time, y = DEATH_EVENT, fill = DEATH_EVENT)) +\n",
    "    geom_boxplot(alpha = 0.4) +\n",
    "    xlab(\"Time\") +\n",
    "    ylab(\"Death Event\") +\n",
    "    theme(text = element_text(size = 14))"
   ]
  },
  {
   "cell_type": "code",
   "execution_count": 12,
   "id": "71e7d08f-600b-4309-af7d-14f901204de7",
   "metadata": {},
   "outputs": [
    {
     "data": {
      "image/png": "[encoded data removed]",
      "text/plain": [
       "plot without title"
      ]
     },
     "metadata": {
      "image/png": {
       "height": 600,
       "width": 1080
      }
     },
     "output_type": "display_data"
    }
   ],
   "source": [
    "options(repr.plot.width = 18, repr.plot.height = 10)\n",
    "\n",
    "plot_grid(age_graph,\n",
    "          creatinine_phosphokinase_graph,\n",
    "          platelets_graph,\n",
    "          ejection_fraction_graph, \n",
    "          serum_creatinine_graph,\n",
    "          serum_sodium_graph,\n",
    "          time_graph,\n",
    "          labels = c(\"A\", \"B\", \"C\", \"D\", \"E\", \"F\", \"G\"),\n",
    "          ncol = 3)"
   ]
  },
  {
   "cell_type": "markdown",
   "id": "584e4c9b-ab14-44e1-9276-2790ed233035",
   "metadata": {},
   "source": [
    "- We can visualize the range and median of values for each predictor variable separated by `DEATH_EVENT` using `ggplot()` and `geom_boxplot()`.\n",
    "- By looking at the boxplots for our training/testing split, we can see that the variables `age`, `ejectioin_fraction`, `serum_sodium`, and `time` vary in range and median for each category of `DEATH_EVENT`. This means that they may have a significant impact on predicting whether patients die or not.\n",
    "- From the plots of `creatinine_phosphokinase`, `platelets`, and `serum_creatinine`, we can see that they do not vary much in range, median or both."
   ]
  },
  {
   "cell_type": "markdown",
   "id": "ab87cf29-3c2a-4cbb-a481-766eeafc1fba",
   "metadata": {},
   "source": [
    "### Analyzing and Selecting Predictor Variables"
   ]
  },
  {
   "cell_type": "markdown",
   "id": "fc077b60-6d50-468e-a256-12d8aa2dd26b",
   "metadata": {},
   "source": [
    "As noted above, we need to ensure that our training model consists of an equal number of observation for each `DEATH_EVENT` category. "
   ]
  },
  {
   "cell_type": "code",
   "execution_count": 13,
   "id": "13546425-6b71-470a-bc26-7d141f292746",
   "metadata": {},
   "outputs": [],
   "source": [
    "heart_vfold <- vfold_cv(heart_train, v = 5, strata = DEATH_EVENT)\n",
    "\n",
    "gridvals <- tibble(neighbors = seq(1, 20))\n",
    "\n",
    "knn_spec <- nearest_neighbor(weight_func = \"rectangular\", neighbors = tune()) |>\n",
    "    set_engine(\"kknn\") |>\n",
    "    set_mode(\"classification\")"
   ]
  },
  {
   "cell_type": "code",
   "execution_count": 16,
   "id": "535f057e-1daa-4259-ba32-a2b1c076b385",
   "metadata": {},
   "outputs": [],
   "source": [
    "a_recipe <- recipe(DEATH_EVENT ~ age, heart_train) |>\n",
    "    step_scale(all_predictors()) |>\n",
    "    step_center(all_predictors())\n",
    "\n",
    "a_results <- workflow() |>\n",
    "    add_recipe(a_recipe) |>\n",
    "    add_model(knn_spec) |>\n",
    "    tune_grid(resamples = heart_vfold, grid = gridvals) |>\n",
    "    collect_metrics() |>\n",
    "    filter(.metric == \"accuracy\")\n",
    "\n",
    "a_results_best <- a_results |>\n",
    "    arrange(desc(mean)) |>\n",
    "    slice(1) |>\n",
    "    pull(mean)"
   ]
  },
  {
   "cell_type": "markdown",
   "id": "0d8887f6-5e28-42cb-8a5a-4fbd2811cffd",
   "metadata": {},
   "source": [
    "### References"
   ]
  },
  {
   "cell_type": "markdown",
   "id": "918ab9f7-0d9d-4284-a179-4f286b716ad7",
   "metadata": {},
   "source": [
    "National Guideline Centre (UK). Chronic Heart Failure in Adults: Diagnosis and Management. London: National Institute for Health and Care Excellence (NICE); 2018 Sep. (NICE Guideline, No. 106.) 2, Introduction. Available from: https://www.ncbi.nlm.nih.gov/books/NBK536089/.\n"
   ]
  },
  {
   "cell_type": "code",
   "execution_count": null,
   "id": "b713d9aa-b2b2-4004-adbe-adf1208abcec",
   "metadata": {},
   "outputs": [],
   "source": []
  }
 ],
 "metadata": {
  "kernelspec": {
   "display_name": "R",
   "language": "R",
   "name": "ir"
  },
  "language_info": {
   "codemirror_mode": "r",
   "file_extension": ".r",
   "mimetype": "text/x-r-source",
   "name": "R",
   "pygments_lexer": "r",
   "version": "4.1.3"
  }
 },
 "nbformat": 4,
 "nbformat_minor": 5
}
