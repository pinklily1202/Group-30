{
 "cells": [
  {
   "cell_type": "markdown",
   "id": "c0a91549-2016-410e-a32e-e364e981c2e6",
   "metadata": {},
   "source": [
    "# Analyzing Data to Investigate Risk Factors in Heart Failure Patients to Predict Mortality "
   ]
  },
  {
   "cell_type": "markdown",
   "id": "dbde98d0-bd99-459b-acd2-67b8a9113641",
   "metadata": {},
   "source": [
    "### Introduction"
   ]
  },
  {
   "cell_type": "markdown",
   "id": "26969ba2-1203-4f01-b7de-9368b8a5f337",
   "metadata": {},
   "source": [
    "A prevalent complex clinical combination of symptoms and signs known as heart failure is brought on by a decrease in the heart's function as a pump supporting the circulatory system (National Guideline Centre, 2018). The death risk in the first year after treatment is about 35% while the risk of death is less than 10% in the second year for those that are still alive (National Clinical Guideline Centre, 2010). Data analysis on heart failure is significant because it can provide valuable insights into the causes and  risk factors of heart failure. We will look into different patients’ health reports and their experience of heart failure to help us determine the factors that are most influential in predicting possible death of patients with heart failure. \n"
   ]
  },
  {
   "cell_type": "markdown",
   "id": "4b6cff82-1417-468c-a760-855ab0b4e87b",
   "metadata": {},
   "source": [
    "<img src=\"hiiii.jpeg\" width=\"250\"> <img src=\"hellooooo.jpeg\" width=\"250\">"
   ]
  },
  {
   "cell_type": "markdown",
   "id": "6474e723-b407-4cb1-9782-052ba3a57860",
   "metadata": {},
   "source": [
    "This leads to the question: **Is it possible to predict whether a patient who has already experienced heart failure will die based on the most influential components of a patient's health?**\n"
   ]
  },
  {
   "cell_type": "markdown",
   "id": "3c88a429-7a53-4c50-b2e6-d551f49d6aa9",
   "metadata": {},
   "source": [
    "To answer this question, we will examine a dataset made up of 13 attributes among 299 patients. This data was retrieved from the `heart_failure_clinical_records_dataset.csv` file in the Heart Disease dataset directory, which may be accessed at: https://archive.ics.uci.edu/ml/datasets/Heart+failure+clinical+records (Chicco et al., 2020).\n"
   ]
  },
  {
   "cell_type": "markdown",
   "id": "5d9142d0-6ad5-45c6-a965-ded87a002487",
   "metadata": {},
   "source": [
    "|Variable|Unit|Values|\n",
    "|--------|----|---------------|\n",
    "|age: age of the patient|years|positive integers|\n",
    "|anaemia: decrease of red blood cells or hemoglobin|NA|0 = false; 1 = true|\n",
    "|high_blood_pressure: if the patient has hypertension|NA|0 = false; 1 = true|\n",
    "|creatinine_phosphokinase: level of the CPK enzyme in the blood|mcg/L|positive integers|\n",
    "|diabetes: if the patient has diabetes|NA|0 = false; 1 = true|\n",
    "|ejection_fraction: percentage of blood leaving the heart at each contraction|%|positive integers|\n",
    "|platelets: platelets in the blood|kiloplatelets/mL|positive integers|\n",
    "|sex: woman or man|NA|0 = female; 1 = male|\n",
    "|serum_creatinine: level of serum creatinine in the blood|mg/dL|positive numbers|\n",
    "|serum_sodium: level of serum sodium in the blood|mEq/L|positive integers|\n",
    "|smoking: if the patient smokes or not|NA|0 = false; 1 = true|\n",
    "|time: follow-up period (285 days)|days|positive integers|\n",
    "|DEATH_EVENT: if the patient deceased during the follow-up period|NA|0 = false; 1 = true|\n",
    "\n"
   ]
  },
  {
   "cell_type": "markdown",
   "id": "306d343c-ecb3-4680-bd50-fe56e218614e",
   "metadata": {},
   "source": [
    "From this table, we can see that our dataset includes many variables. However, for our model to be accurate, we need to include only those which have a significant effect on mortality. According to a study conducted by Ahmad et al. (2017), the variables `age`, `anaemia`, `high_blood_pressure`, `ejection_fraction`, `serum_creatinine` and `serum_sodium` had the greatest influence on the accuracy of their prediction model and as such we will use these variables too.\n",
    "\n",
    "\n",
    "We can exclude the variable ‘sex’ from our prediction model since research has determined that though men tend to have a higher incidence of heart failure, the prevalence rate is similar among both men and women (Stromberg & Martensson, 2003).\n"
   ]
  },
  {
   "cell_type": "markdown",
   "id": "f517f91b-ac83-4410-a819-744b1cd20d8b",
   "metadata": {},
   "source": [
    "### Methods"
   ]
  },
  {
   "cell_type": "markdown",
   "id": "6e19777e-0aa6-4d8a-ae2f-04fd1e04c89e",
   "metadata": {},
   "source": [
    "Our objective is to predict the death_event class using the optimal predictor variables, which we will select, to build a K-NN Classification model. The measures we will take to do this are as follows:\n",
    "1. Read-in and tidy the dataset: After loading in the dataset, it must be tidied.\n",
    "2. Train/Test split: The dataset is split into training and testing sets and the accuracy is determined through cross-validation.\n",
    "3. Analyze and summarise our training set: Using scatterplot and bar graph, the cross-validation of the training data is visualized to see the variance in the range and median of the different attributes.\n",
    "4. Discover the ideal 𝑘  value and construct our final model.\n",
    "5. Evaluation and Conclusion\n"
   ]
  },
  {
   "cell_type": "markdown",
   "id": "63e919d6-8797-450e-a52f-3fa7dd83a95f",
   "metadata": {},
   "source": [
    "### Expected Outcomes"
   ]
  },
  {
   "cell_type": "markdown",
   "id": "5432f478-9f6e-4035-a518-d06f3a812b91",
   "metadata": {},
   "source": [
    "With our algorithm that accurately forecasts fatality in patients with heart failure, our expected outcome would be to correctly predict whether a patient having heart failure will die based on the most influential components affecting it.\n",
    "\t\n",
    "There is a huge impact of our findings as our results can have real-world implications since we could use this model to predict the likelihood that a person having heart failure will die and administer the appropriate level of treatment and monitoring based on other health variables that may be of concern.\n",
    "\n",
    "Future questions that may be resulted from this is if there are any other variables that are in or outside this datatable that will make the classification more accurate in determining the likelihood of death from a patient who’s been through heart failure.\n"
   ]
  },
  {
   "cell_type": "markdown",
   "id": "30c67aaa-8cc7-4e32-ac9b-b27a48f0db9a",
   "metadata": {},
   "source": [
    "### Preliminary exploratory data analysis"
   ]
  },
  {
   "cell_type": "markdown",
   "id": "955a7440-809c-4e2e-bdb4-d699d25a9e32",
   "metadata": {},
   "source": [
    "First, load the libraries:"
   ]
  },
  {
   "cell_type": "code",
   "execution_count": 1,
   "id": "726aa404-2029-4b86-b97b-09e1dad1b405",
   "metadata": {},
   "outputs": [
    {
     "name": "stderr",
     "output_type": "stream",
     "text": [
      "── \u001b[1mAttaching packages\u001b[22m ─────────────────────────────────────── tidyverse 1.3.1 ──\n",
      "\n",
      "\u001b[32m✔\u001b[39m \u001b[34mggplot2\u001b[39m 3.3.6     \u001b[32m✔\u001b[39m \u001b[34mpurrr  \u001b[39m 0.3.4\n",
      "\u001b[32m✔\u001b[39m \u001b[34mtibble \u001b[39m 3.1.7     \u001b[32m✔\u001b[39m \u001b[34mdplyr  \u001b[39m 1.0.9\n",
      "\u001b[32m✔\u001b[39m \u001b[34mtidyr  \u001b[39m 1.2.0     \u001b[32m✔\u001b[39m \u001b[34mstringr\u001b[39m 1.4.0\n",
      "\u001b[32m✔\u001b[39m \u001b[34mreadr  \u001b[39m 2.1.2     \u001b[32m✔\u001b[39m \u001b[34mforcats\u001b[39m 0.5.1\n",
      "\n",
      "── \u001b[1mConflicts\u001b[22m ────────────────────────────────────────── tidyverse_conflicts() ──\n",
      "\u001b[31m✖\u001b[39m \u001b[34mdplyr\u001b[39m::\u001b[32mfilter()\u001b[39m masks \u001b[34mstats\u001b[39m::filter()\n",
      "\u001b[31m✖\u001b[39m \u001b[34mdplyr\u001b[39m::\u001b[32mlag()\u001b[39m    masks \u001b[34mstats\u001b[39m::lag()\n",
      "\n",
      "── \u001b[1mAttaching packages\u001b[22m ────────────────────────────────────── tidymodels 1.0.0 ──\n",
      "\n",
      "\u001b[32m✔\u001b[39m \u001b[34mbroom       \u001b[39m 1.0.0     \u001b[32m✔\u001b[39m \u001b[34mrsample     \u001b[39m 1.0.0\n",
      "\u001b[32m✔\u001b[39m \u001b[34mdials       \u001b[39m 1.0.0     \u001b[32m✔\u001b[39m \u001b[34mtune        \u001b[39m 1.0.0\n",
      "\u001b[32m✔\u001b[39m \u001b[34minfer       \u001b[39m 1.0.2     \u001b[32m✔\u001b[39m \u001b[34mworkflows   \u001b[39m 1.0.0\n",
      "\u001b[32m✔\u001b[39m \u001b[34mmodeldata   \u001b[39m 1.0.0     \u001b[32m✔\u001b[39m \u001b[34mworkflowsets\u001b[39m 1.0.0\n",
      "\u001b[32m✔\u001b[39m \u001b[34mparsnip     \u001b[39m 1.0.0     \u001b[32m✔\u001b[39m \u001b[34myardstick   \u001b[39m 1.0.0\n",
      "\u001b[32m✔\u001b[39m \u001b[34mrecipes     \u001b[39m 1.0.1     \n",
      "\n",
      "── \u001b[1mConflicts\u001b[22m ───────────────────────────────────────── tidymodels_conflicts() ──\n",
      "\u001b[31m✖\u001b[39m \u001b[34mscales\u001b[39m::\u001b[32mdiscard()\u001b[39m masks \u001b[34mpurrr\u001b[39m::discard()\n",
      "\u001b[31m✖\u001b[39m \u001b[34mdplyr\u001b[39m::\u001b[32mfilter()\u001b[39m   masks \u001b[34mstats\u001b[39m::filter()\n",
      "\u001b[31m✖\u001b[39m \u001b[34mrecipes\u001b[39m::\u001b[32mfixed()\u001b[39m  masks \u001b[34mstringr\u001b[39m::fixed()\n",
      "\u001b[31m✖\u001b[39m \u001b[34mdplyr\u001b[39m::\u001b[32mlag()\u001b[39m      masks \u001b[34mstats\u001b[39m::lag()\n",
      "\u001b[31m✖\u001b[39m \u001b[34myardstick\u001b[39m::\u001b[32mspec()\u001b[39m masks \u001b[34mreadr\u001b[39m::spec()\n",
      "\u001b[31m✖\u001b[39m \u001b[34mrecipes\u001b[39m::\u001b[32mstep()\u001b[39m   masks \u001b[34mstats\u001b[39m::step()\n",
      "\u001b[34m•\u001b[39m Dig deeper into tidy modeling with R at \u001b[32mhttps://www.tmwr.org\u001b[39m\n",
      "\n"
     ]
    }
   ],
   "source": [
    "library(repr)\n",
    "library(tidyverse)\n",
    "library(tidymodels)\n",
    "library(cowplot)"
   ]
  },
  {
   "cell_type": "markdown",
   "id": "c8a27682-e06b-47e1-bc55-d7ba5a25e85a",
   "metadata": {},
   "source": [
    "**Reading in the dataset from the web** and selecting 8 rows to observe."
   ]
  },
  {
   "cell_type": "code",
   "execution_count": 20,
   "id": "2c216e2e-300d-416f-9752-5bafd97e815a",
   "metadata": {},
   "outputs": [
    {
     "name": "stderr",
     "output_type": "stream",
     "text": [
      "\u001b[1mRows: \u001b[22m\u001b[34m299\u001b[39m \u001b[1mColumns: \u001b[22m\u001b[34m13\u001b[39m\n",
      "\u001b[36m──\u001b[39m \u001b[1mColumn specification\u001b[22m \u001b[36m────────────────────────────────────────────────────────\u001b[39m\n",
      "\u001b[1mDelimiter:\u001b[22m \",\"\n",
      "\u001b[32mdbl\u001b[39m (13): age, anaemia, creatinine_phosphokinase, diabetes, ejection_fractio...\n",
      "\n",
      "\u001b[36mℹ\u001b[39m Use `spec()` to retrieve the full column specification for this data.\n",
      "\u001b[36mℹ\u001b[39m Specify the column types or set `show_col_types = FALSE` to quiet this message.\n"
     ]
    },
    {
     "data": {
      "text/html": [
       "<table class=\"dataframe\">\n",
       "<caption>A spec_tbl_df: 8 × 13</caption>\n",
       "<thead>\n",
       "\t<tr><th scope=col>age</th><th scope=col>anaemia</th><th scope=col>creatinine_phosphokinase</th><th scope=col>diabetes</th><th scope=col>ejection_fraction</th><th scope=col>high_blood_pressure</th><th scope=col>platelets</th><th scope=col>serum_creatinine</th><th scope=col>serum_sodium</th><th scope=col>sex</th><th scope=col>smoking</th><th scope=col>time</th><th scope=col>DEATH_EVENT</th></tr>\n",
       "\t<tr><th scope=col>&lt;dbl&gt;</th><th scope=col>&lt;dbl&gt;</th><th scope=col>&lt;dbl&gt;</th><th scope=col>&lt;dbl&gt;</th><th scope=col>&lt;dbl&gt;</th><th scope=col>&lt;dbl&gt;</th><th scope=col>&lt;dbl&gt;</th><th scope=col>&lt;dbl&gt;</th><th scope=col>&lt;dbl&gt;</th><th scope=col>&lt;dbl&gt;</th><th scope=col>&lt;dbl&gt;</th><th scope=col>&lt;dbl&gt;</th><th scope=col>&lt;dbl&gt;</th></tr>\n",
       "</thead>\n",
       "<tbody>\n",
       "\t<tr><td>60</td><td>0</td><td>2261</td><td>0</td><td>35</td><td>1</td><td>228000</td><td>0.9</td><td>136</td><td>1</td><td>0</td><td>115</td><td>0</td></tr>\n",
       "\t<tr><td>70</td><td>0</td><td> 232</td><td>0</td><td>30</td><td>0</td><td>173000</td><td>1.2</td><td>132</td><td>1</td><td>0</td><td>210</td><td>0</td></tr>\n",
       "\t<tr><td>75</td><td>0</td><td>  99</td><td>0</td><td>38</td><td>1</td><td>224000</td><td>2.5</td><td>134</td><td>1</td><td>0</td><td>162</td><td>1</td></tr>\n",
       "\t<tr><td>58</td><td>1</td><td>  57</td><td>0</td><td>25</td><td>0</td><td>189000</td><td>1.3</td><td>132</td><td>1</td><td>1</td><td>205</td><td>0</td></tr>\n",
       "\t<tr><td>68</td><td>1</td><td> 157</td><td>1</td><td>60</td><td>0</td><td>208000</td><td>1.0</td><td>140</td><td>0</td><td>0</td><td>237</td><td>0</td></tr>\n",
       "\t<tr><td>65</td><td>0</td><td> 582</td><td>1</td><td>30</td><td>0</td><td>249000</td><td>1.3</td><td>136</td><td>1</td><td>1</td><td>212</td><td>0</td></tr>\n",
       "\t<tr><td>53</td><td>0</td><td>  63</td><td>1</td><td>60</td><td>0</td><td>368000</td><td>0.8</td><td>135</td><td>1</td><td>0</td><td> 22</td><td>0</td></tr>\n",
       "\t<tr><td>65</td><td>1</td><td> 335</td><td>0</td><td>35</td><td>1</td><td>235000</td><td>0.8</td><td>136</td><td>0</td><td>0</td><td>120</td><td>0</td></tr>\n",
       "</tbody>\n",
       "</table>\n"
      ],
      "text/latex": [
       "A spec\\_tbl\\_df: 8 × 13\n",
       "\\begin{tabular}{lllllllllllll}\n",
       " age & anaemia & creatinine\\_phosphokinase & diabetes & ejection\\_fraction & high\\_blood\\_pressure & platelets & serum\\_creatinine & serum\\_sodium & sex & smoking & time & DEATH\\_EVENT\\\\\n",
       " <dbl> & <dbl> & <dbl> & <dbl> & <dbl> & <dbl> & <dbl> & <dbl> & <dbl> & <dbl> & <dbl> & <dbl> & <dbl>\\\\\n",
       "\\hline\n",
       "\t 60 & 0 & 2261 & 0 & 35 & 1 & 228000 & 0.9 & 136 & 1 & 0 & 115 & 0\\\\\n",
       "\t 70 & 0 &  232 & 0 & 30 & 0 & 173000 & 1.2 & 132 & 1 & 0 & 210 & 0\\\\\n",
       "\t 75 & 0 &   99 & 0 & 38 & 1 & 224000 & 2.5 & 134 & 1 & 0 & 162 & 1\\\\\n",
       "\t 58 & 1 &   57 & 0 & 25 & 0 & 189000 & 1.3 & 132 & 1 & 1 & 205 & 0\\\\\n",
       "\t 68 & 1 &  157 & 1 & 60 & 0 & 208000 & 1.0 & 140 & 0 & 0 & 237 & 0\\\\\n",
       "\t 65 & 0 &  582 & 1 & 30 & 0 & 249000 & 1.3 & 136 & 1 & 1 & 212 & 0\\\\\n",
       "\t 53 & 0 &   63 & 1 & 60 & 0 & 368000 & 0.8 & 135 & 1 & 0 &  22 & 0\\\\\n",
       "\t 65 & 1 &  335 & 0 & 35 & 1 & 235000 & 0.8 & 136 & 0 & 0 & 120 & 0\\\\\n",
       "\\end{tabular}\n"
      ],
      "text/markdown": [
       "\n",
       "A spec_tbl_df: 8 × 13\n",
       "\n",
       "| age &lt;dbl&gt; | anaemia &lt;dbl&gt; | creatinine_phosphokinase &lt;dbl&gt; | diabetes &lt;dbl&gt; | ejection_fraction &lt;dbl&gt; | high_blood_pressure &lt;dbl&gt; | platelets &lt;dbl&gt; | serum_creatinine &lt;dbl&gt; | serum_sodium &lt;dbl&gt; | sex &lt;dbl&gt; | smoking &lt;dbl&gt; | time &lt;dbl&gt; | DEATH_EVENT &lt;dbl&gt; |\n",
       "|---|---|---|---|---|---|---|---|---|---|---|---|---|\n",
       "| 60 | 0 | 2261 | 0 | 35 | 1 | 228000 | 0.9 | 136 | 1 | 0 | 115 | 0 |\n",
       "| 70 | 0 |  232 | 0 | 30 | 0 | 173000 | 1.2 | 132 | 1 | 0 | 210 | 0 |\n",
       "| 75 | 0 |   99 | 0 | 38 | 1 | 224000 | 2.5 | 134 | 1 | 0 | 162 | 1 |\n",
       "| 58 | 1 |   57 | 0 | 25 | 0 | 189000 | 1.3 | 132 | 1 | 1 | 205 | 0 |\n",
       "| 68 | 1 |  157 | 1 | 60 | 0 | 208000 | 1.0 | 140 | 0 | 0 | 237 | 0 |\n",
       "| 65 | 0 |  582 | 1 | 30 | 0 | 249000 | 1.3 | 136 | 1 | 1 | 212 | 0 |\n",
       "| 53 | 0 |   63 | 1 | 60 | 0 | 368000 | 0.8 | 135 | 1 | 0 |  22 | 0 |\n",
       "| 65 | 1 |  335 | 0 | 35 | 1 | 235000 | 0.8 | 136 | 0 | 0 | 120 | 0 |\n",
       "\n"
      ],
      "text/plain": [
       "  age anaemia creatinine_phosphokinase diabetes ejection_fraction\n",
       "1 60  0       2261                     0        35               \n",
       "2 70  0        232                     0        30               \n",
       "3 75  0         99                     0        38               \n",
       "4 58  1         57                     0        25               \n",
       "5 68  1        157                     1        60               \n",
       "6 65  0        582                     1        30               \n",
       "7 53  0         63                     1        60               \n",
       "8 65  1        335                     0        35               \n",
       "  high_blood_pressure platelets serum_creatinine serum_sodium sex smoking time\n",
       "1 1                   228000    0.9              136          1   0       115 \n",
       "2 0                   173000    1.2              132          1   0       210 \n",
       "3 1                   224000    2.5              134          1   0       162 \n",
       "4 0                   189000    1.3              132          1   1       205 \n",
       "5 0                   208000    1.0              140          0   0       237 \n",
       "6 0                   249000    1.3              136          1   1       212 \n",
       "7 0                   368000    0.8              135          1   0        22 \n",
       "8 1                   235000    0.8              136          0   0       120 \n",
       "  DEATH_EVENT\n",
       "1 0          \n",
       "2 0          \n",
       "3 1          \n",
       "4 0          \n",
       "5 0          \n",
       "6 0          \n",
       "7 0          \n",
       "8 0          "
      ]
     },
     "metadata": {},
     "output_type": "display_data"
    }
   ],
   "source": [
    "heart_data <- read_csv(\"https://archive.ics.uci.edu/ml/machine-learning-databases/00519/heart_failure_clinical_records_dataset.csv\")\n",
    "slice_sample(heart_data, n = 8)"
   ]
  },
  {
   "cell_type": "markdown",
   "id": "d71202a6-065a-4e03-903b-4d001c7e993b",
   "metadata": {},
   "source": [
    "Looking at the `DEATH_EVENT` column, if the variable is 0, it means that the patient is alive. If the variable is 1, it means that the the patient died."
   ]
  },
  {
   "cell_type": "markdown",
   "id": "1bd0cf0d-f0cb-4232-9410-02b4a0934a8f",
   "metadata": {},
   "source": [
    "There aren't any rows containing any missing values. Therefore we do not have to remove any cases from the dataframe."
   ]
  },
  {
   "cell_type": "markdown",
   "id": "5af9522b-e901-4bf1-87ad-b06101e66104",
   "metadata": {},
   "source": [
    "Based on our introduction, we will select the column of which are the four most relevant factors in determining whether the patient will die."
   ]
  },
  {
   "cell_type": "code",
   "execution_count": 21,
   "id": "e5224a0c-3052-4028-890e-405ad345b6b2",
   "metadata": {},
   "outputs": [
    {
     "data": {
      "text/html": [
       "<table class=\"dataframe\">\n",
       "<caption>A tibble: 8 × 7</caption>\n",
       "<thead>\n",
       "\t<tr><th scope=col>age</th><th scope=col>anaemia</th><th scope=col>high_blood_pressure</th><th scope=col>ejection_fraction</th><th scope=col>serum_creatinine</th><th scope=col>serum_sodium</th><th scope=col>DEATH_EVENT</th></tr>\n",
       "\t<tr><th scope=col>&lt;dbl&gt;</th><th scope=col>&lt;dbl&gt;</th><th scope=col>&lt;dbl&gt;</th><th scope=col>&lt;dbl&gt;</th><th scope=col>&lt;dbl&gt;</th><th scope=col>&lt;dbl&gt;</th><th scope=col>&lt;dbl&gt;</th></tr>\n",
       "</thead>\n",
       "<tbody>\n",
       "\t<tr><td>61.000</td><td>0</td><td>0</td><td>38</td><td>1.20</td><td>141</td><td>0</td></tr>\n",
       "\t<tr><td>55.000</td><td>0</td><td>0</td><td>35</td><td>1.20</td><td>135</td><td>0</td></tr>\n",
       "\t<tr><td>63.000</td><td>0</td><td>1</td><td>60</td><td>1.30</td><td>145</td><td>0</td></tr>\n",
       "\t<tr><td>60.667</td><td>1</td><td>1</td><td>40</td><td>1.00</td><td>136</td><td>0</td></tr>\n",
       "\t<tr><td>75.000</td><td>0</td><td>0</td><td>60</td><td>1.40</td><td>125</td><td>0</td></tr>\n",
       "\t<tr><td>73.000</td><td>0</td><td>0</td><td>20</td><td>1.83</td><td>134</td><td>1</td></tr>\n",
       "\t<tr><td>95.000</td><td>1</td><td>1</td><td>40</td><td>1.00</td><td>138</td><td>1</td></tr>\n",
       "\t<tr><td>40.000</td><td>0</td><td>0</td><td>35</td><td>1.00</td><td>142</td><td>0</td></tr>\n",
       "</tbody>\n",
       "</table>\n"
      ],
      "text/latex": [
       "A tibble: 8 × 7\n",
       "\\begin{tabular}{lllllll}\n",
       " age & anaemia & high\\_blood\\_pressure & ejection\\_fraction & serum\\_creatinine & serum\\_sodium & DEATH\\_EVENT\\\\\n",
       " <dbl> & <dbl> & <dbl> & <dbl> & <dbl> & <dbl> & <dbl>\\\\\n",
       "\\hline\n",
       "\t 61.000 & 0 & 0 & 38 & 1.20 & 141 & 0\\\\\n",
       "\t 55.000 & 0 & 0 & 35 & 1.20 & 135 & 0\\\\\n",
       "\t 63.000 & 0 & 1 & 60 & 1.30 & 145 & 0\\\\\n",
       "\t 60.667 & 1 & 1 & 40 & 1.00 & 136 & 0\\\\\n",
       "\t 75.000 & 0 & 0 & 60 & 1.40 & 125 & 0\\\\\n",
       "\t 73.000 & 0 & 0 & 20 & 1.83 & 134 & 1\\\\\n",
       "\t 95.000 & 1 & 1 & 40 & 1.00 & 138 & 1\\\\\n",
       "\t 40.000 & 0 & 0 & 35 & 1.00 & 142 & 0\\\\\n",
       "\\end{tabular}\n"
      ],
      "text/markdown": [
       "\n",
       "A tibble: 8 × 7\n",
       "\n",
       "| age &lt;dbl&gt; | anaemia &lt;dbl&gt; | high_blood_pressure &lt;dbl&gt; | ejection_fraction &lt;dbl&gt; | serum_creatinine &lt;dbl&gt; | serum_sodium &lt;dbl&gt; | DEATH_EVENT &lt;dbl&gt; |\n",
       "|---|---|---|---|---|---|---|\n",
       "| 61.000 | 0 | 0 | 38 | 1.20 | 141 | 0 |\n",
       "| 55.000 | 0 | 0 | 35 | 1.20 | 135 | 0 |\n",
       "| 63.000 | 0 | 1 | 60 | 1.30 | 145 | 0 |\n",
       "| 60.667 | 1 | 1 | 40 | 1.00 | 136 | 0 |\n",
       "| 75.000 | 0 | 0 | 60 | 1.40 | 125 | 0 |\n",
       "| 73.000 | 0 | 0 | 20 | 1.83 | 134 | 1 |\n",
       "| 95.000 | 1 | 1 | 40 | 1.00 | 138 | 1 |\n",
       "| 40.000 | 0 | 0 | 35 | 1.00 | 142 | 0 |\n",
       "\n"
      ],
      "text/plain": [
       "  age    anaemia high_blood_pressure ejection_fraction serum_creatinine\n",
       "1 61.000 0       0                   38                1.20            \n",
       "2 55.000 0       0                   35                1.20            \n",
       "3 63.000 0       1                   60                1.30            \n",
       "4 60.667 1       1                   40                1.00            \n",
       "5 75.000 0       0                   60                1.40            \n",
       "6 73.000 0       0                   20                1.83            \n",
       "7 95.000 1       1                   40                1.00            \n",
       "8 40.000 0       0                   35                1.00            \n",
       "  serum_sodium DEATH_EVENT\n",
       "1 141          0          \n",
       "2 135          0          \n",
       "3 145          0          \n",
       "4 136          0          \n",
       "5 125          0          \n",
       "6 134          1          \n",
       "7 138          1          \n",
       "8 142          0          "
      ]
     },
     "metadata": {},
     "output_type": "display_data"
    }
   ],
   "source": [
    "heart_data <- select(heart_data, age, anaemia, high_blood_pressure, ejection_fraction, serum_creatinine, serum_sodium, DEATH_EVENT)\n",
    "slice_sample(heart_data, n = 8)"
   ]
  },
  {
   "cell_type": "markdown",
   "id": "f827ed79-8ed2-4c4a-98c6-88d02231b4d5",
   "metadata": {},
   "source": [
    "We then used `mutate` to convert all predictors into numeric data; convert target variable to a factor using `as_factor`."
   ]
  },
  {
   "cell_type": "code",
   "execution_count": 22,
   "id": "8d30e4f6-8b57-4b79-a358-dfc714b6720a",
   "metadata": {},
   "outputs": [
    {
     "data": {
      "text/html": [
       "<table class=\"dataframe\">\n",
       "<caption>A tibble: 1 × 7</caption>\n",
       "<thead>\n",
       "\t<tr><th scope=col>age</th><th scope=col>anaemia</th><th scope=col>high_blood_pressure</th><th scope=col>ejection_fraction</th><th scope=col>serum_creatinine</th><th scope=col>serum_sodium</th><th scope=col>DEATH_EVENT</th></tr>\n",
       "\t<tr><th scope=col>&lt;dbl&gt;</th><th scope=col>&lt;dbl&gt;</th><th scope=col>&lt;dbl&gt;</th><th scope=col>&lt;dbl&gt;</th><th scope=col>&lt;dbl&gt;</th><th scope=col>&lt;dbl&gt;</th><th scope=col>&lt;fct&gt;</th></tr>\n",
       "</thead>\n",
       "<tbody>\n",
       "\t<tr><td>75</td><td>0</td><td>1</td><td>20</td><td>1.9</td><td>130</td><td>1</td></tr>\n",
       "</tbody>\n",
       "</table>\n"
      ],
      "text/latex": [
       "A tibble: 1 × 7\n",
       "\\begin{tabular}{lllllll}\n",
       " age & anaemia & high\\_blood\\_pressure & ejection\\_fraction & serum\\_creatinine & serum\\_sodium & DEATH\\_EVENT\\\\\n",
       " <dbl> & <dbl> & <dbl> & <dbl> & <dbl> & <dbl> & <fct>\\\\\n",
       "\\hline\n",
       "\t 75 & 0 & 1 & 20 & 1.9 & 130 & 1\\\\\n",
       "\\end{tabular}\n"
      ],
      "text/markdown": [
       "\n",
       "A tibble: 1 × 7\n",
       "\n",
       "| age &lt;dbl&gt; | anaemia &lt;dbl&gt; | high_blood_pressure &lt;dbl&gt; | ejection_fraction &lt;dbl&gt; | serum_creatinine &lt;dbl&gt; | serum_sodium &lt;dbl&gt; | DEATH_EVENT &lt;fct&gt; |\n",
       "|---|---|---|---|---|---|---|\n",
       "| 75 | 0 | 1 | 20 | 1.9 | 130 | 1 |\n",
       "\n"
      ],
      "text/plain": [
       "  age anaemia high_blood_pressure ejection_fraction serum_creatinine\n",
       "1 75  0       1                   20                1.9             \n",
       "  serum_sodium DEATH_EVENT\n",
       "1 130          1          "
      ]
     },
     "metadata": {},
     "output_type": "display_data"
    }
   ],
   "source": [
    "heart_data <- heart_data |>\n",
    "  mutate(DEATH_EVENT = as_factor(DEATH_EVENT))\n",
    "\n",
    "slice(heart_data, 1)"
   ]
  },
  {
   "cell_type": "markdown",
   "id": "ea45530c-fdc1-4f00-b43f-990222543e64",
   "metadata": {},
   "source": [
    "**After tidying our data to a format that is suitable for analysis, we continue to next step by focusing specifically on the training data.**\n",
    "<br>We choose to split 75% of our original data set into the training set."
   ]
  },
  {
   "cell_type": "code",
   "execution_count": 24,
   "id": "89c8df54-bd1c-47f1-8e8f-5761b131f93b",
   "metadata": {},
   "outputs": [],
   "source": [
    "heart_split <- initial_split(heart_data, prop = 0.75, strata = DEATH_EVENT)  \n",
    "heart_train <- training(heart_split)   \n",
    "heart_test <- testing(heart_split)"
   ]
  },
  {
   "cell_type": "markdown",
   "id": "3468864c-b7f8-4b72-9f97-7dcc4609226f",
   "metadata": {},
   "source": [
    "Since all of the predictor variables contains quantitative data, we used `group_by` to separate each class label, and find the mean of each predictor variable under each class label using `summarize` + `across`."
   ]
  },
  {
   "cell_type": "code",
   "execution_count": 26,
   "id": "d4848cd1-ae07-467b-a4e2-16da614019d3",
   "metadata": {},
   "outputs": [
    {
     "data": {
      "text/html": [
       "<table class=\"dataframe\">\n",
       "<caption>A tibble: 2 × 7</caption>\n",
       "<thead>\n",
       "\t<tr><th scope=col>DEATH_EVENT</th><th scope=col>age</th><th scope=col>anaemia</th><th scope=col>high_blood_pressure</th><th scope=col>ejection_fraction</th><th scope=col>serum_creatinine</th><th scope=col>serum_sodium</th></tr>\n",
       "\t<tr><th scope=col>&lt;fct&gt;</th><th scope=col>&lt;dbl&gt;</th><th scope=col>&lt;dbl&gt;</th><th scope=col>&lt;dbl&gt;</th><th scope=col>&lt;dbl&gt;</th><th scope=col>&lt;dbl&gt;</th><th scope=col>&lt;dbl&gt;</th></tr>\n",
       "</thead>\n",
       "<tbody>\n",
       "\t<tr><td>0</td><td>58.76191</td><td>0.4088670</td><td>0.3251232</td><td>40.26601</td><td>1.184877</td><td>137.2167</td></tr>\n",
       "\t<tr><td>1</td><td>65.21528</td><td>0.4791667</td><td>0.4062500</td><td>33.46875</td><td>1.835833</td><td>135.3750</td></tr>\n",
       "</tbody>\n",
       "</table>\n"
      ],
      "text/latex": [
       "A tibble: 2 × 7\n",
       "\\begin{tabular}{lllllll}\n",
       " DEATH\\_EVENT & age & anaemia & high\\_blood\\_pressure & ejection\\_fraction & serum\\_creatinine & serum\\_sodium\\\\\n",
       " <fct> & <dbl> & <dbl> & <dbl> & <dbl> & <dbl> & <dbl>\\\\\n",
       "\\hline\n",
       "\t 0 & 58.76191 & 0.4088670 & 0.3251232 & 40.26601 & 1.184877 & 137.2167\\\\\n",
       "\t 1 & 65.21528 & 0.4791667 & 0.4062500 & 33.46875 & 1.835833 & 135.3750\\\\\n",
       "\\end{tabular}\n"
      ],
      "text/markdown": [
       "\n",
       "A tibble: 2 × 7\n",
       "\n",
       "| DEATH_EVENT &lt;fct&gt; | age &lt;dbl&gt; | anaemia &lt;dbl&gt; | high_blood_pressure &lt;dbl&gt; | ejection_fraction &lt;dbl&gt; | serum_creatinine &lt;dbl&gt; | serum_sodium &lt;dbl&gt; |\n",
       "|---|---|---|---|---|---|---|\n",
       "| 0 | 58.76191 | 0.4088670 | 0.3251232 | 40.26601 | 1.184877 | 137.2167 |\n",
       "| 1 | 65.21528 | 0.4791667 | 0.4062500 | 33.46875 | 1.835833 | 135.3750 |\n",
       "\n"
      ],
      "text/plain": [
       "  DEATH_EVENT age      anaemia   high_blood_pressure ejection_fraction\n",
       "1 0           58.76191 0.4088670 0.3251232           40.26601         \n",
       "2 1           65.21528 0.4791667 0.4062500           33.46875         \n",
       "  serum_creatinine serum_sodium\n",
       "1 1.184877         137.2167    \n",
       "2 1.835833         135.3750    "
      ]
     },
     "metadata": {},
     "output_type": "display_data"
    }
   ],
   "source": [
    "observations <- heart_data |>\n",
    "    group_by(DEATH_EVENT) |>\n",
    "    summarize(across(age:serum_sodium, mean))\n",
    "\n",
    "observations"
   ]
  },
  {
   "cell_type": "markdown",
   "id": "7eb4a57f-f943-4a46-99d7-fd961dc41204",
   "metadata": {},
   "source": [
    "**We can also find the mean of all predictor variables.**"
   ]
  },
  {
   "cell_type": "code",
   "execution_count": 27,
   "id": "5660f76e-73ae-4fd7-bf0a-b85fcbae849e",
   "metadata": {},
   "outputs": [
    {
     "data": {
      "text/html": [
       "<table class=\"dataframe\">\n",
       "<caption>A tibble: 1 × 6</caption>\n",
       "<thead>\n",
       "\t<tr><th scope=col>age</th><th scope=col>anaemia</th><th scope=col>high_blood_pressure</th><th scope=col>ejection_fraction</th><th scope=col>serum_creatinine</th><th scope=col>serum_sodium</th></tr>\n",
       "\t<tr><th scope=col>&lt;dbl&gt;</th><th scope=col>&lt;dbl&gt;</th><th scope=col>&lt;dbl&gt;</th><th scope=col>&lt;dbl&gt;</th><th scope=col>&lt;dbl&gt;</th><th scope=col>&lt;dbl&gt;</th></tr>\n",
       "</thead>\n",
       "<tbody>\n",
       "\t<tr><td>61.91667</td><td>0.4419643</td><td>0.3660714</td><td>38.15625</td><td>1.410223</td><td>136.5804</td></tr>\n",
       "</tbody>\n",
       "</table>\n"
      ],
      "text/latex": [
       "A tibble: 1 × 6\n",
       "\\begin{tabular}{llllll}\n",
       " age & anaemia & high\\_blood\\_pressure & ejection\\_fraction & serum\\_creatinine & serum\\_sodium\\\\\n",
       " <dbl> & <dbl> & <dbl> & <dbl> & <dbl> & <dbl>\\\\\n",
       "\\hline\n",
       "\t 61.91667 & 0.4419643 & 0.3660714 & 38.15625 & 1.410223 & 136.5804\\\\\n",
       "\\end{tabular}\n"
      ],
      "text/markdown": [
       "\n",
       "A tibble: 1 × 6\n",
       "\n",
       "| age &lt;dbl&gt; | anaemia &lt;dbl&gt; | high_blood_pressure &lt;dbl&gt; | ejection_fraction &lt;dbl&gt; | serum_creatinine &lt;dbl&gt; | serum_sodium &lt;dbl&gt; |\n",
       "|---|---|---|---|---|---|\n",
       "| 61.91667 | 0.4419643 | 0.3660714 | 38.15625 | 1.410223 | 136.5804 |\n",
       "\n"
      ],
      "text/plain": [
       "  age      anaemia   high_blood_pressure ejection_fraction serum_creatinine\n",
       "1 61.91667 0.4419643 0.3660714           38.15625          1.410223        \n",
       "  serum_sodium\n",
       "1 136.5804    "
      ]
     },
     "metadata": {},
     "output_type": "display_data"
    }
   ],
   "source": [
    "observations_2 <- heart_train |> \n",
    "summarize(across(age:serum_sodium, mean))\n",
    "\n",
    "observations_2"
   ]
  },
  {
   "cell_type": "markdown",
   "id": "5a26dbc3-1ea1-4649-94f8-33d940841b2a",
   "metadata": {},
   "source": [
    "**Next, we use `group_by` + `summarize` to find out the distribution of each of our target variable (DEATH_EVENT).**"
   ]
  },
  {
   "cell_type": "code",
   "execution_count": 28,
   "id": "585c35cd-dfb7-48f7-a036-697fee841fcd",
   "metadata": {},
   "outputs": [
    {
     "data": {
      "text/html": [
       "<table class=\"dataframe\">\n",
       "<caption>A tibble: 2 × 2</caption>\n",
       "<thead>\n",
       "\t<tr><th scope=col>DEATH_EVENT</th><th scope=col>count</th></tr>\n",
       "\t<tr><th scope=col>&lt;fct&gt;</th><th scope=col>&lt;int&gt;</th></tr>\n",
       "</thead>\n",
       "<tbody>\n",
       "\t<tr><td>0</td><td>152</td></tr>\n",
       "\t<tr><td>1</td><td> 72</td></tr>\n",
       "</tbody>\n",
       "</table>\n"
      ],
      "text/latex": [
       "A tibble: 2 × 2\n",
       "\\begin{tabular}{ll}\n",
       " DEATH\\_EVENT & count\\\\\n",
       " <fct> & <int>\\\\\n",
       "\\hline\n",
       "\t 0 & 152\\\\\n",
       "\t 1 &  72\\\\\n",
       "\\end{tabular}\n"
      ],
      "text/markdown": [
       "\n",
       "A tibble: 2 × 2\n",
       "\n",
       "| DEATH_EVENT &lt;fct&gt; | count &lt;int&gt; |\n",
       "|---|---|\n",
       "| 0 | 152 |\n",
       "| 1 |  72 |\n",
       "\n"
      ],
      "text/plain": [
       "  DEATH_EVENT count\n",
       "1 0           152  \n",
       "2 1            72  "
      ]
     },
     "metadata": {},
     "output_type": "display_data"
    }
   ],
   "source": [
    "target_observations <- heart_train |>\n",
    "    group_by(DEATH_EVENT) |>\n",
    "    summarize(count=n())\n",
    "target_observations"
   ]
  },
  {
   "cell_type": "markdown",
   "id": "c6b469e4-3acf-4b9c-894c-d46b353f78b1",
   "metadata": {},
   "source": [
    "**We can use a bar graph to plot the distribution.**"
   ]
  },
  {
   "cell_type": "code",
   "execution_count": 31,
   "id": "bd3d8178-2078-4727-b5f6-b75ddf9af64e",
   "metadata": {},
   "outputs": [
    {
     "data": {
      "image/png": "[encoded data removed]",
      "text/plain": [
       "plot without title"
      ]
     },
     "metadata": {
      "image/png": {
       "height": 330,
       "width": 360
      }
     },
     "output_type": "display_data"
    }
   ],
   "source": [
    "options(repr.plot.width = 6, repr.plot.height = 5.5)\n",
    "\n",
    "heart_plot <- ggplot(target_observations, aes(x = DEATH_EVENT, y = count, fill = DEATH_EVENT)) +\n",
    "  geom_bar(stat = \"identity\") +\n",
    "  labs(x = \"Death_Event (0 or 1)\", y = \"Number of Observations\") +\n",
    "  ggtitle(\"Death Distribution\") +\n",
    "  theme(text = element_text(size = 20))\n",
    "\n",
    "heart_plot"
   ]
  },
  {
   "cell_type": "markdown",
   "id": "a35f17bf-b2f7-48ca-85f2-dc34ead09bac",
   "metadata": {},
   "source": [
    "A potential issue in our data set for a classifier is class imbalance, since the instances where  than other classes. In our final project, we will add an oversampling step to the recipe with the `step_upsample` function from the `themis R` package. By oversampling the rare class, we can give them more voting power to in the K-nearest neighbor algorithm."
   ]
  },
  {
   "cell_type": "markdown",
   "id": "0d8887f6-5e28-42cb-8a5a-4fbd2811cffd",
   "metadata": {},
   "source": [
    "### References"
   ]
  },
  {
   "cell_type": "markdown",
   "id": "918ab9f7-0d9d-4284-a179-4f286b716ad7",
   "metadata": {},
   "source": [
    "Stromberg, A., & Martensson, J. (2003). Gender differences in patients with heart failure. SAGE Publications. https://doi.org/10.1016/S1474-5151(03)00002-1\n",
    "\n",
    "National Guideline Centre (UK). Chronic Heart Failure in Adults: Diagnosis and Management. London: National Institute for Health and Care Excellence (NICE); 2018 Sep. (NICE Guideline, No. 106.) 2, Introduction. Available from: https://www.ncbi.nlm.nih.gov/books/NBK536089/ \n"
   ]
  },
  {
   "cell_type": "code",
   "execution_count": null,
   "id": "a0736380-c0cd-4d5b-ab27-9b780eff99b1",
   "metadata": {},
   "outputs": [],
   "source": []
  }
 ],
 "metadata": {
  "kernelspec": {
   "display_name": "R",
   "language": "R",
   "name": "ir"
  },
  "language_info": {
   "codemirror_mode": "r",
   "file_extension": ".r",
   "mimetype": "text/x-r-source",
   "name": "R",
   "pygments_lexer": "r",
   "version": "4.1.3"
  }
 },
 "nbformat": 4,
 "nbformat_minor": 5
}
